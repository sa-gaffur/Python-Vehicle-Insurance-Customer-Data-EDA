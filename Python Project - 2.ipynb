{
 "cells": [
  {
   "cell_type": "code",
   "execution_count": 1,
   "id": "6b4037df",
   "metadata": {},
   "outputs": [],
   "source": [
    "import pandas as pd"
   ]
  },
  {
   "cell_type": "code",
   "execution_count": 2,
   "id": "99e1f4fa",
   "metadata": {},
   "outputs": [],
   "source": [
    "df1 = pd.read_csv(r\"E:\\PYTHON\\Project-2\\customer_details.csv\")"
   ]
  },
  {
   "cell_type": "code",
   "execution_count": 3,
   "id": "ff4432c0",
   "metadata": {},
   "outputs": [
    {
     "data": {
      "text/html": [
       "<div>\n",
       "<style scoped>\n",
       "    .dataframe tbody tr th:only-of-type {\n",
       "        vertical-align: middle;\n",
       "    }\n",
       "\n",
       "    .dataframe tbody tr th {\n",
       "        vertical-align: top;\n",
       "    }\n",
       "\n",
       "    .dataframe thead th {\n",
       "        text-align: right;\n",
       "    }\n",
       "</style>\n",
       "<table border=\"1\" class=\"dataframe\">\n",
       "  <thead>\n",
       "    <tr style=\"text-align: right;\">\n",
       "      <th></th>\n",
       "      <th>0</th>\n",
       "      <th>1</th>\n",
       "      <th>2</th>\n",
       "      <th>3</th>\n",
       "      <th>4</th>\n",
       "      <th>5</th>\n",
       "      <th>6</th>\n",
       "      <th>7</th>\n",
       "    </tr>\n",
       "  </thead>\n",
       "  <tbody>\n",
       "    <tr>\n",
       "      <th>0</th>\n",
       "      <td>1.0</td>\n",
       "      <td>Male</td>\n",
       "      <td>44.0</td>\n",
       "      <td>1.0</td>\n",
       "      <td>28.0</td>\n",
       "      <td>0.0</td>\n",
       "      <td>&gt; 2 Years</td>\n",
       "      <td>Yes</td>\n",
       "    </tr>\n",
       "    <tr>\n",
       "      <th>1</th>\n",
       "      <td>2.0</td>\n",
       "      <td>Male</td>\n",
       "      <td>76.0</td>\n",
       "      <td>1.0</td>\n",
       "      <td>3.0</td>\n",
       "      <td>0.0</td>\n",
       "      <td>1-2 Year</td>\n",
       "      <td>No</td>\n",
       "    </tr>\n",
       "    <tr>\n",
       "      <th>2</th>\n",
       "      <td>3.0</td>\n",
       "      <td>Male</td>\n",
       "      <td>47.0</td>\n",
       "      <td>1.0</td>\n",
       "      <td>28.0</td>\n",
       "      <td>0.0</td>\n",
       "      <td>&gt; 2 Years</td>\n",
       "      <td>Yes</td>\n",
       "    </tr>\n",
       "    <tr>\n",
       "      <th>3</th>\n",
       "      <td>4.0</td>\n",
       "      <td>Male</td>\n",
       "      <td>21.0</td>\n",
       "      <td>1.0</td>\n",
       "      <td>11.0</td>\n",
       "      <td>1.0</td>\n",
       "      <td>&lt; 1 Year</td>\n",
       "      <td>No</td>\n",
       "    </tr>\n",
       "    <tr>\n",
       "      <th>4</th>\n",
       "      <td>5.0</td>\n",
       "      <td>Female</td>\n",
       "      <td>29.0</td>\n",
       "      <td>1.0</td>\n",
       "      <td>41.0</td>\n",
       "      <td>1.0</td>\n",
       "      <td>&lt; 1 Year</td>\n",
       "      <td>No</td>\n",
       "    </tr>\n",
       "    <tr>\n",
       "      <th>...</th>\n",
       "      <td>...</td>\n",
       "      <td>...</td>\n",
       "      <td>...</td>\n",
       "      <td>...</td>\n",
       "      <td>...</td>\n",
       "      <td>...</td>\n",
       "      <td>...</td>\n",
       "      <td>...</td>\n",
       "    </tr>\n",
       "    <tr>\n",
       "      <th>381104</th>\n",
       "      <td>381105.0</td>\n",
       "      <td>Male</td>\n",
       "      <td>74.0</td>\n",
       "      <td>1.0</td>\n",
       "      <td>26.0</td>\n",
       "      <td>1.0</td>\n",
       "      <td>1-2 Year</td>\n",
       "      <td>No</td>\n",
       "    </tr>\n",
       "    <tr>\n",
       "      <th>381105</th>\n",
       "      <td>381106.0</td>\n",
       "      <td>Male</td>\n",
       "      <td>30.0</td>\n",
       "      <td>1.0</td>\n",
       "      <td>37.0</td>\n",
       "      <td>1.0</td>\n",
       "      <td>&lt; 1 Year</td>\n",
       "      <td>No</td>\n",
       "    </tr>\n",
       "    <tr>\n",
       "      <th>381106</th>\n",
       "      <td>381107.0</td>\n",
       "      <td>Male</td>\n",
       "      <td>21.0</td>\n",
       "      <td>1.0</td>\n",
       "      <td>30.0</td>\n",
       "      <td>1.0</td>\n",
       "      <td>&lt; 1 Year</td>\n",
       "      <td>No</td>\n",
       "    </tr>\n",
       "    <tr>\n",
       "      <th>381107</th>\n",
       "      <td>381108.0</td>\n",
       "      <td>Female</td>\n",
       "      <td>68.0</td>\n",
       "      <td>1.0</td>\n",
       "      <td>14.0</td>\n",
       "      <td>0.0</td>\n",
       "      <td>&gt; 2 Years</td>\n",
       "      <td>Yes</td>\n",
       "    </tr>\n",
       "    <tr>\n",
       "      <th>381108</th>\n",
       "      <td>381109.0</td>\n",
       "      <td>Male</td>\n",
       "      <td>46.0</td>\n",
       "      <td>1.0</td>\n",
       "      <td>29.0</td>\n",
       "      <td>0.0</td>\n",
       "      <td>1-2 Year</td>\n",
       "      <td>No</td>\n",
       "    </tr>\n",
       "  </tbody>\n",
       "</table>\n",
       "<p>381109 rows × 8 columns</p>\n",
       "</div>"
      ],
      "text/plain": [
       "               0       1     2    3     4    5          6    7\n",
       "0            1.0    Male  44.0  1.0  28.0  0.0  > 2 Years  Yes\n",
       "1            2.0    Male  76.0  1.0   3.0  0.0   1-2 Year   No\n",
       "2            3.0    Male  47.0  1.0  28.0  0.0  > 2 Years  Yes\n",
       "3            4.0    Male  21.0  1.0  11.0  1.0   < 1 Year   No\n",
       "4            5.0  Female  29.0  1.0  41.0  1.0   < 1 Year   No\n",
       "...          ...     ...   ...  ...   ...  ...        ...  ...\n",
       "381104  381105.0    Male  74.0  1.0  26.0  1.0   1-2 Year   No\n",
       "381105  381106.0    Male  30.0  1.0  37.0  1.0   < 1 Year   No\n",
       "381106  381107.0    Male  21.0  1.0  30.0  1.0   < 1 Year   No\n",
       "381107  381108.0  Female  68.0  1.0  14.0  0.0  > 2 Years  Yes\n",
       "381108  381109.0    Male  46.0  1.0  29.0  0.0   1-2 Year   No\n",
       "\n",
       "[381109 rows x 8 columns]"
      ]
     },
     "execution_count": 3,
     "metadata": {},
     "output_type": "execute_result"
    }
   ],
   "source": [
    "df1"
   ]
  },
  {
   "cell_type": "code",
   "execution_count": 5,
   "id": "0dd2258a",
   "metadata": {},
   "outputs": [],
   "source": [
    "df2 = pd.read_csv(r\"E:\\PYTHON\\Project-2\\customer_policy_details.csv\")"
   ]
  },
  {
   "cell_type": "code",
   "execution_count": 6,
   "id": "42d79d29",
   "metadata": {},
   "outputs": [
    {
     "data": {
      "text/html": [
       "<div>\n",
       "<style scoped>\n",
       "    .dataframe tbody tr th:only-of-type {\n",
       "        vertical-align: middle;\n",
       "    }\n",
       "\n",
       "    .dataframe tbody tr th {\n",
       "        vertical-align: top;\n",
       "    }\n",
       "\n",
       "    .dataframe thead th {\n",
       "        text-align: right;\n",
       "    }\n",
       "</style>\n",
       "<table border=\"1\" class=\"dataframe\">\n",
       "  <thead>\n",
       "    <tr style=\"text-align: right;\">\n",
       "      <th></th>\n",
       "      <th>0</th>\n",
       "      <th>1</th>\n",
       "      <th>2</th>\n",
       "      <th>3</th>\n",
       "      <th>4</th>\n",
       "    </tr>\n",
       "  </thead>\n",
       "  <tbody>\n",
       "    <tr>\n",
       "      <th>0</th>\n",
       "      <td>1.0</td>\n",
       "      <td>40454.0</td>\n",
       "      <td>26.0</td>\n",
       "      <td>217.0</td>\n",
       "      <td>1.0</td>\n",
       "    </tr>\n",
       "    <tr>\n",
       "      <th>1</th>\n",
       "      <td>2.0</td>\n",
       "      <td>33536.0</td>\n",
       "      <td>26.0</td>\n",
       "      <td>183.0</td>\n",
       "      <td>0.0</td>\n",
       "    </tr>\n",
       "    <tr>\n",
       "      <th>2</th>\n",
       "      <td>3.0</td>\n",
       "      <td>38294.0</td>\n",
       "      <td>26.0</td>\n",
       "      <td>27.0</td>\n",
       "      <td>1.0</td>\n",
       "    </tr>\n",
       "    <tr>\n",
       "      <th>3</th>\n",
       "      <td>4.0</td>\n",
       "      <td>28619.0</td>\n",
       "      <td>152.0</td>\n",
       "      <td>203.0</td>\n",
       "      <td>0.0</td>\n",
       "    </tr>\n",
       "    <tr>\n",
       "      <th>4</th>\n",
       "      <td>5.0</td>\n",
       "      <td>27496.0</td>\n",
       "      <td>152.0</td>\n",
       "      <td>39.0</td>\n",
       "      <td>0.0</td>\n",
       "    </tr>\n",
       "    <tr>\n",
       "      <th>...</th>\n",
       "      <td>...</td>\n",
       "      <td>...</td>\n",
       "      <td>...</td>\n",
       "      <td>...</td>\n",
       "      <td>...</td>\n",
       "    </tr>\n",
       "    <tr>\n",
       "      <th>381104</th>\n",
       "      <td>381105.0</td>\n",
       "      <td>30170.0</td>\n",
       "      <td>26.0</td>\n",
       "      <td>88.0</td>\n",
       "      <td>0.0</td>\n",
       "    </tr>\n",
       "    <tr>\n",
       "      <th>381105</th>\n",
       "      <td>381106.0</td>\n",
       "      <td>40016.0</td>\n",
       "      <td>152.0</td>\n",
       "      <td>131.0</td>\n",
       "      <td>0.0</td>\n",
       "    </tr>\n",
       "    <tr>\n",
       "      <th>381106</th>\n",
       "      <td>381107.0</td>\n",
       "      <td>35118.0</td>\n",
       "      <td>160.0</td>\n",
       "      <td>161.0</td>\n",
       "      <td>0.0</td>\n",
       "    </tr>\n",
       "    <tr>\n",
       "      <th>381107</th>\n",
       "      <td>381108.0</td>\n",
       "      <td>44617.0</td>\n",
       "      <td>124.0</td>\n",
       "      <td>74.0</td>\n",
       "      <td>0.0</td>\n",
       "    </tr>\n",
       "    <tr>\n",
       "      <th>381108</th>\n",
       "      <td>381109.0</td>\n",
       "      <td>41777.0</td>\n",
       "      <td>26.0</td>\n",
       "      <td>237.0</td>\n",
       "      <td>0.0</td>\n",
       "    </tr>\n",
       "  </tbody>\n",
       "</table>\n",
       "<p>381109 rows × 5 columns</p>\n",
       "</div>"
      ],
      "text/plain": [
       "               0        1      2      3    4\n",
       "0            1.0  40454.0   26.0  217.0  1.0\n",
       "1            2.0  33536.0   26.0  183.0  0.0\n",
       "2            3.0  38294.0   26.0   27.0  1.0\n",
       "3            4.0  28619.0  152.0  203.0  0.0\n",
       "4            5.0  27496.0  152.0   39.0  0.0\n",
       "...          ...      ...    ...    ...  ...\n",
       "381104  381105.0  30170.0   26.0   88.0  0.0\n",
       "381105  381106.0  40016.0  152.0  131.0  0.0\n",
       "381106  381107.0  35118.0  160.0  161.0  0.0\n",
       "381107  381108.0  44617.0  124.0   74.0  0.0\n",
       "381108  381109.0  41777.0   26.0  237.0  0.0\n",
       "\n",
       "[381109 rows x 5 columns]"
      ]
     },
     "execution_count": 6,
     "metadata": {},
     "output_type": "execute_result"
    }
   ],
   "source": [
    "df2"
   ]
  },
  {
   "cell_type": "markdown",
   "id": "bccb27bc",
   "metadata": {},
   "source": [
    "## 1Q. Add the column names to both datasets:\n",
    "\n"
   ]
  },
  {
   "cell_type": "code",
   "execution_count": 7,
   "id": "820b57fb",
   "metadata": {},
   "outputs": [],
   "source": [
    "# 1. Column Name for customer details table:\n",
    "\n",
    "df1.columns = [\"customer_id\",\"Gender\",\"age\",\"driving licence present\",\"region code\",\"previously insured\",\"vehicle age\",\"vehicle damage\"]"
   ]
  },
  {
   "cell_type": "code",
   "execution_count": 8,
   "id": "7a4f0981",
   "metadata": {},
   "outputs": [
    {
     "data": {
      "text/html": [
       "<div>\n",
       "<style scoped>\n",
       "    .dataframe tbody tr th:only-of-type {\n",
       "        vertical-align: middle;\n",
       "    }\n",
       "\n",
       "    .dataframe tbody tr th {\n",
       "        vertical-align: top;\n",
       "    }\n",
       "\n",
       "    .dataframe thead th {\n",
       "        text-align: right;\n",
       "    }\n",
       "</style>\n",
       "<table border=\"1\" class=\"dataframe\">\n",
       "  <thead>\n",
       "    <tr style=\"text-align: right;\">\n",
       "      <th></th>\n",
       "      <th>customer_id</th>\n",
       "      <th>Gender</th>\n",
       "      <th>age</th>\n",
       "      <th>driving licence present</th>\n",
       "      <th>region code</th>\n",
       "      <th>previously insured</th>\n",
       "      <th>vehicle age</th>\n",
       "      <th>vehicle damage</th>\n",
       "    </tr>\n",
       "  </thead>\n",
       "  <tbody>\n",
       "    <tr>\n",
       "      <th>0</th>\n",
       "      <td>1.0</td>\n",
       "      <td>Male</td>\n",
       "      <td>44.0</td>\n",
       "      <td>1.0</td>\n",
       "      <td>28.0</td>\n",
       "      <td>0.0</td>\n",
       "      <td>&gt; 2 Years</td>\n",
       "      <td>Yes</td>\n",
       "    </tr>\n",
       "    <tr>\n",
       "      <th>1</th>\n",
       "      <td>2.0</td>\n",
       "      <td>Male</td>\n",
       "      <td>76.0</td>\n",
       "      <td>1.0</td>\n",
       "      <td>3.0</td>\n",
       "      <td>0.0</td>\n",
       "      <td>1-2 Year</td>\n",
       "      <td>No</td>\n",
       "    </tr>\n",
       "    <tr>\n",
       "      <th>2</th>\n",
       "      <td>3.0</td>\n",
       "      <td>Male</td>\n",
       "      <td>47.0</td>\n",
       "      <td>1.0</td>\n",
       "      <td>28.0</td>\n",
       "      <td>0.0</td>\n",
       "      <td>&gt; 2 Years</td>\n",
       "      <td>Yes</td>\n",
       "    </tr>\n",
       "    <tr>\n",
       "      <th>3</th>\n",
       "      <td>4.0</td>\n",
       "      <td>Male</td>\n",
       "      <td>21.0</td>\n",
       "      <td>1.0</td>\n",
       "      <td>11.0</td>\n",
       "      <td>1.0</td>\n",
       "      <td>&lt; 1 Year</td>\n",
       "      <td>No</td>\n",
       "    </tr>\n",
       "    <tr>\n",
       "      <th>4</th>\n",
       "      <td>5.0</td>\n",
       "      <td>Female</td>\n",
       "      <td>29.0</td>\n",
       "      <td>1.0</td>\n",
       "      <td>41.0</td>\n",
       "      <td>1.0</td>\n",
       "      <td>&lt; 1 Year</td>\n",
       "      <td>No</td>\n",
       "    </tr>\n",
       "    <tr>\n",
       "      <th>...</th>\n",
       "      <td>...</td>\n",
       "      <td>...</td>\n",
       "      <td>...</td>\n",
       "      <td>...</td>\n",
       "      <td>...</td>\n",
       "      <td>...</td>\n",
       "      <td>...</td>\n",
       "      <td>...</td>\n",
       "    </tr>\n",
       "    <tr>\n",
       "      <th>381104</th>\n",
       "      <td>381105.0</td>\n",
       "      <td>Male</td>\n",
       "      <td>74.0</td>\n",
       "      <td>1.0</td>\n",
       "      <td>26.0</td>\n",
       "      <td>1.0</td>\n",
       "      <td>1-2 Year</td>\n",
       "      <td>No</td>\n",
       "    </tr>\n",
       "    <tr>\n",
       "      <th>381105</th>\n",
       "      <td>381106.0</td>\n",
       "      <td>Male</td>\n",
       "      <td>30.0</td>\n",
       "      <td>1.0</td>\n",
       "      <td>37.0</td>\n",
       "      <td>1.0</td>\n",
       "      <td>&lt; 1 Year</td>\n",
       "      <td>No</td>\n",
       "    </tr>\n",
       "    <tr>\n",
       "      <th>381106</th>\n",
       "      <td>381107.0</td>\n",
       "      <td>Male</td>\n",
       "      <td>21.0</td>\n",
       "      <td>1.0</td>\n",
       "      <td>30.0</td>\n",
       "      <td>1.0</td>\n",
       "      <td>&lt; 1 Year</td>\n",
       "      <td>No</td>\n",
       "    </tr>\n",
       "    <tr>\n",
       "      <th>381107</th>\n",
       "      <td>381108.0</td>\n",
       "      <td>Female</td>\n",
       "      <td>68.0</td>\n",
       "      <td>1.0</td>\n",
       "      <td>14.0</td>\n",
       "      <td>0.0</td>\n",
       "      <td>&gt; 2 Years</td>\n",
       "      <td>Yes</td>\n",
       "    </tr>\n",
       "    <tr>\n",
       "      <th>381108</th>\n",
       "      <td>381109.0</td>\n",
       "      <td>Male</td>\n",
       "      <td>46.0</td>\n",
       "      <td>1.0</td>\n",
       "      <td>29.0</td>\n",
       "      <td>0.0</td>\n",
       "      <td>1-2 Year</td>\n",
       "      <td>No</td>\n",
       "    </tr>\n",
       "  </tbody>\n",
       "</table>\n",
       "<p>381109 rows × 8 columns</p>\n",
       "</div>"
      ],
      "text/plain": [
       "        customer_id  Gender   age  driving licence present  region code  \\\n",
       "0               1.0    Male  44.0                      1.0         28.0   \n",
       "1               2.0    Male  76.0                      1.0          3.0   \n",
       "2               3.0    Male  47.0                      1.0         28.0   \n",
       "3               4.0    Male  21.0                      1.0         11.0   \n",
       "4               5.0  Female  29.0                      1.0         41.0   \n",
       "...             ...     ...   ...                      ...          ...   \n",
       "381104     381105.0    Male  74.0                      1.0         26.0   \n",
       "381105     381106.0    Male  30.0                      1.0         37.0   \n",
       "381106     381107.0    Male  21.0                      1.0         30.0   \n",
       "381107     381108.0  Female  68.0                      1.0         14.0   \n",
       "381108     381109.0    Male  46.0                      1.0         29.0   \n",
       "\n",
       "        previously insured vehicle age vehicle damage  \n",
       "0                      0.0   > 2 Years            Yes  \n",
       "1                      0.0    1-2 Year             No  \n",
       "2                      0.0   > 2 Years            Yes  \n",
       "3                      1.0    < 1 Year             No  \n",
       "4                      1.0    < 1 Year             No  \n",
       "...                    ...         ...            ...  \n",
       "381104                 1.0    1-2 Year             No  \n",
       "381105                 1.0    < 1 Year             No  \n",
       "381106                 1.0    < 1 Year             No  \n",
       "381107                 0.0   > 2 Years            Yes  \n",
       "381108                 0.0    1-2 Year             No  \n",
       "\n",
       "[381109 rows x 8 columns]"
      ]
     },
     "execution_count": 8,
     "metadata": {},
     "output_type": "execute_result"
    }
   ],
   "source": [
    "df1"
   ]
  },
  {
   "cell_type": "code",
   "execution_count": null,
   "id": "755b27c5",
   "metadata": {},
   "outputs": [],
   "source": [
    "# 1. Column Name for customer_policy table:"
   ]
  },
  {
   "cell_type": "code",
   "execution_count": 9,
   "id": "7218323a",
   "metadata": {},
   "outputs": [],
   "source": [
    "df2.columns = [\"customer_id\",\"annual premium (in Rs)\",\"sales channel code\",\"vintage\",\"response\"]"
   ]
  },
  {
   "cell_type": "code",
   "execution_count": 10,
   "id": "5cdd9902",
   "metadata": {},
   "outputs": [
    {
     "data": {
      "text/html": [
       "<div>\n",
       "<style scoped>\n",
       "    .dataframe tbody tr th:only-of-type {\n",
       "        vertical-align: middle;\n",
       "    }\n",
       "\n",
       "    .dataframe tbody tr th {\n",
       "        vertical-align: top;\n",
       "    }\n",
       "\n",
       "    .dataframe thead th {\n",
       "        text-align: right;\n",
       "    }\n",
       "</style>\n",
       "<table border=\"1\" class=\"dataframe\">\n",
       "  <thead>\n",
       "    <tr style=\"text-align: right;\">\n",
       "      <th></th>\n",
       "      <th>customer_id</th>\n",
       "      <th>annual premium (in Rs)</th>\n",
       "      <th>sales channel code</th>\n",
       "      <th>vintage</th>\n",
       "      <th>response</th>\n",
       "    </tr>\n",
       "  </thead>\n",
       "  <tbody>\n",
       "    <tr>\n",
       "      <th>0</th>\n",
       "      <td>1.0</td>\n",
       "      <td>40454.0</td>\n",
       "      <td>26.0</td>\n",
       "      <td>217.0</td>\n",
       "      <td>1.0</td>\n",
       "    </tr>\n",
       "    <tr>\n",
       "      <th>1</th>\n",
       "      <td>2.0</td>\n",
       "      <td>33536.0</td>\n",
       "      <td>26.0</td>\n",
       "      <td>183.0</td>\n",
       "      <td>0.0</td>\n",
       "    </tr>\n",
       "    <tr>\n",
       "      <th>2</th>\n",
       "      <td>3.0</td>\n",
       "      <td>38294.0</td>\n",
       "      <td>26.0</td>\n",
       "      <td>27.0</td>\n",
       "      <td>1.0</td>\n",
       "    </tr>\n",
       "    <tr>\n",
       "      <th>3</th>\n",
       "      <td>4.0</td>\n",
       "      <td>28619.0</td>\n",
       "      <td>152.0</td>\n",
       "      <td>203.0</td>\n",
       "      <td>0.0</td>\n",
       "    </tr>\n",
       "    <tr>\n",
       "      <th>4</th>\n",
       "      <td>5.0</td>\n",
       "      <td>27496.0</td>\n",
       "      <td>152.0</td>\n",
       "      <td>39.0</td>\n",
       "      <td>0.0</td>\n",
       "    </tr>\n",
       "    <tr>\n",
       "      <th>...</th>\n",
       "      <td>...</td>\n",
       "      <td>...</td>\n",
       "      <td>...</td>\n",
       "      <td>...</td>\n",
       "      <td>...</td>\n",
       "    </tr>\n",
       "    <tr>\n",
       "      <th>381104</th>\n",
       "      <td>381105.0</td>\n",
       "      <td>30170.0</td>\n",
       "      <td>26.0</td>\n",
       "      <td>88.0</td>\n",
       "      <td>0.0</td>\n",
       "    </tr>\n",
       "    <tr>\n",
       "      <th>381105</th>\n",
       "      <td>381106.0</td>\n",
       "      <td>40016.0</td>\n",
       "      <td>152.0</td>\n",
       "      <td>131.0</td>\n",
       "      <td>0.0</td>\n",
       "    </tr>\n",
       "    <tr>\n",
       "      <th>381106</th>\n",
       "      <td>381107.0</td>\n",
       "      <td>35118.0</td>\n",
       "      <td>160.0</td>\n",
       "      <td>161.0</td>\n",
       "      <td>0.0</td>\n",
       "    </tr>\n",
       "    <tr>\n",
       "      <th>381107</th>\n",
       "      <td>381108.0</td>\n",
       "      <td>44617.0</td>\n",
       "      <td>124.0</td>\n",
       "      <td>74.0</td>\n",
       "      <td>0.0</td>\n",
       "    </tr>\n",
       "    <tr>\n",
       "      <th>381108</th>\n",
       "      <td>381109.0</td>\n",
       "      <td>41777.0</td>\n",
       "      <td>26.0</td>\n",
       "      <td>237.0</td>\n",
       "      <td>0.0</td>\n",
       "    </tr>\n",
       "  </tbody>\n",
       "</table>\n",
       "<p>381109 rows × 5 columns</p>\n",
       "</div>"
      ],
      "text/plain": [
       "        customer_id  annual premium (in Rs)  sales channel code  vintage  \\\n",
       "0               1.0                 40454.0                26.0    217.0   \n",
       "1               2.0                 33536.0                26.0    183.0   \n",
       "2               3.0                 38294.0                26.0     27.0   \n",
       "3               4.0                 28619.0               152.0    203.0   \n",
       "4               5.0                 27496.0               152.0     39.0   \n",
       "...             ...                     ...                 ...      ...   \n",
       "381104     381105.0                 30170.0                26.0     88.0   \n",
       "381105     381106.0                 40016.0               152.0    131.0   \n",
       "381106     381107.0                 35118.0               160.0    161.0   \n",
       "381107     381108.0                 44617.0               124.0     74.0   \n",
       "381108     381109.0                 41777.0                26.0    237.0   \n",
       "\n",
       "        response  \n",
       "0            1.0  \n",
       "1            0.0  \n",
       "2            1.0  \n",
       "3            0.0  \n",
       "4            0.0  \n",
       "...          ...  \n",
       "381104       0.0  \n",
       "381105       0.0  \n",
       "381106       0.0  \n",
       "381107       0.0  \n",
       "381108       0.0  \n",
       "\n",
       "[381109 rows x 5 columns]"
      ]
     },
     "execution_count": 10,
     "metadata": {},
     "output_type": "execute_result"
    }
   ],
   "source": [
    "df2"
   ]
  },
  {
   "cell_type": "markdown",
   "id": "03de5996",
   "metadata": {},
   "source": [
    "## 2Q. Checking and Cleaning Data Quality:"
   ]
  },
  {
   "cell_type": "markdown",
   "id": "352208c3",
   "metadata": {},
   "source": [
    "### 1. Null values"
   ]
  },
  {
   "cell_type": "code",
   "execution_count": 12,
   "id": "2d03e55b",
   "metadata": {},
   "outputs": [
    {
     "data": {
      "text/plain": [
       "customer_id                386\n",
       "Gender                     368\n",
       "age                        368\n",
       "driving licence present    393\n",
       "region code                392\n",
       "previously insured         381\n",
       "vehicle age                381\n",
       "vehicle damage             407\n",
       "dtype: int64"
      ]
     },
     "execution_count": 12,
     "metadata": {},
     "output_type": "execute_result"
    }
   ],
   "source": [
    "# 1.Generate a summary of count of all the null values column wise\n",
    "\n",
    "# customer_details dataset(df1)\n",
    "\n",
    "df1.isnull().sum()"
   ]
  },
  {
   "cell_type": "code",
   "execution_count": 13,
   "id": "764c95a9",
   "metadata": {},
   "outputs": [],
   "source": [
    "# 2.Drop Null values for customer_id because central tendencies for id’s is not feasible.\n",
    "\n",
    "# customer_details dataset(df1)\n",
    "\n",
    "df1.dropna(subset = [\"customer_id\"],inplace = True)"
   ]
  },
  {
   "cell_type": "code",
   "execution_count": 14,
   "id": "4ad6cfe9",
   "metadata": {},
   "outputs": [
    {
     "data": {
      "text/plain": [
       "customer_id                  0\n",
       "Gender                     368\n",
       "age                        366\n",
       "driving licence present    392\n",
       "region code                391\n",
       "previously insured         381\n",
       "vehicle age                381\n",
       "vehicle damage             406\n",
       "dtype: int64"
      ]
     },
     "execution_count": 14,
     "metadata": {},
     "output_type": "execute_result"
    }
   ],
   "source": [
    "df1.isnull().sum()"
   ]
  },
  {
   "cell_type": "code",
   "execution_count": 15,
   "id": "5740bc57",
   "metadata": {},
   "outputs": [],
   "source": [
    "# 3.Replace all null values for numeric columns by mean. \n",
    "\n",
    "# customer_details dataset(df1).\n",
    "\n",
    "# 'age','region code' columns contain numerical data and remaining columns contain categorical data.\n",
    "\n",
    "df1[\"age\"].fillna(df1[\"age\"].mean(),inplace = True)"
   ]
  },
  {
   "cell_type": "code",
   "execution_count": 16,
   "id": "46280586",
   "metadata": {},
   "outputs": [
    {
     "data": {
      "text/plain": [
       "customer_id                  0\n",
       "Gender                     368\n",
       "age                          0\n",
       "driving licence present    392\n",
       "region code                391\n",
       "previously insured         381\n",
       "vehicle age                381\n",
       "vehicle damage             406\n",
       "dtype: int64"
      ]
     },
     "execution_count": 16,
     "metadata": {},
     "output_type": "execute_result"
    }
   ],
   "source": [
    "df1.isnull().sum()"
   ]
  },
  {
   "cell_type": "code",
   "execution_count": 17,
   "id": "5ff1704c",
   "metadata": {},
   "outputs": [],
   "source": [
    "df1[\"region code\"].fillna(df1[\"region code\"].mean(),inplace = True)"
   ]
  },
  {
   "cell_type": "code",
   "execution_count": 18,
   "id": "08cb9f8e",
   "metadata": {},
   "outputs": [
    {
     "data": {
      "text/plain": [
       "customer_id                  0\n",
       "Gender                     368\n",
       "age                          0\n",
       "driving licence present    392\n",
       "region code                  0\n",
       "previously insured         381\n",
       "vehicle age                381\n",
       "vehicle damage             406\n",
       "dtype: int64"
      ]
     },
     "execution_count": 18,
     "metadata": {},
     "output_type": "execute_result"
    }
   ],
   "source": [
    "df1.isnull().sum()"
   ]
  },
  {
   "cell_type": "code",
   "execution_count": 22,
   "id": "fd42db7e",
   "metadata": {},
   "outputs": [],
   "source": [
    "# 4.Replace all null values for Categorical value by mode.\n",
    "\n",
    "# customer_details dataset(df1)\n",
    "\n",
    "df1[\"Gender\"].fillna(df1[\"Gender\"].mode()[0],inplace = True)"
   ]
  },
  {
   "cell_type": "code",
   "execution_count": 23,
   "id": "c113e9a7",
   "metadata": {},
   "outputs": [
    {
     "data": {
      "text/plain": [
       "customer_id                  0\n",
       "Gender                       0\n",
       "age                          0\n",
       "driving licence present    392\n",
       "region code                  0\n",
       "previously insured         381\n",
       "vehicle age                381\n",
       "vehicle damage             406\n",
       "dtype: int64"
      ]
     },
     "execution_count": 23,
     "metadata": {},
     "output_type": "execute_result"
    }
   ],
   "source": [
    "df1.isnull().sum()"
   ]
  },
  {
   "cell_type": "code",
   "execution_count": 24,
   "id": "7530d266",
   "metadata": {},
   "outputs": [],
   "source": [
    "df1[\"driving licence present\"].fillna(df1[\"driving licence present\"].mode()[0],inplace = True)"
   ]
  },
  {
   "cell_type": "code",
   "execution_count": 25,
   "id": "5d5e9c62",
   "metadata": {},
   "outputs": [
    {
     "data": {
      "text/plain": [
       "customer_id                  0\n",
       "Gender                       0\n",
       "age                          0\n",
       "driving licence present      0\n",
       "region code                  0\n",
       "previously insured         381\n",
       "vehicle age                381\n",
       "vehicle damage             406\n",
       "dtype: int64"
      ]
     },
     "execution_count": 25,
     "metadata": {},
     "output_type": "execute_result"
    }
   ],
   "source": [
    "df1.isnull().sum()"
   ]
  },
  {
   "cell_type": "code",
   "execution_count": 26,
   "id": "027f2448",
   "metadata": {},
   "outputs": [],
   "source": [
    "df1[\"previously insured\"].fillna(df1[\"previously insured\"].mode()[0],inplace = True)"
   ]
  },
  {
   "cell_type": "code",
   "execution_count": 27,
   "id": "731d3854",
   "metadata": {},
   "outputs": [
    {
     "data": {
      "text/plain": [
       "customer_id                  0\n",
       "Gender                       0\n",
       "age                          0\n",
       "driving licence present      0\n",
       "region code                  0\n",
       "previously insured           0\n",
       "vehicle age                381\n",
       "vehicle damage             406\n",
       "dtype: int64"
      ]
     },
     "execution_count": 27,
     "metadata": {},
     "output_type": "execute_result"
    }
   ],
   "source": [
    "df1.isnull().sum()"
   ]
  },
  {
   "cell_type": "code",
   "execution_count": 28,
   "id": "3781ed08",
   "metadata": {},
   "outputs": [],
   "source": [
    "df1[\"vehicle age\"].fillna(df1[\"vehicle age\"].mode()[0],inplace = True)"
   ]
  },
  {
   "cell_type": "code",
   "execution_count": 29,
   "id": "9fc1b32f",
   "metadata": {},
   "outputs": [
    {
     "data": {
      "text/plain": [
       "customer_id                  0\n",
       "Gender                       0\n",
       "age                          0\n",
       "driving licence present      0\n",
       "region code                  0\n",
       "previously insured           0\n",
       "vehicle age                  0\n",
       "vehicle damage             406\n",
       "dtype: int64"
      ]
     },
     "execution_count": 29,
     "metadata": {},
     "output_type": "execute_result"
    }
   ],
   "source": [
    "df1.isnull().sum()"
   ]
  },
  {
   "cell_type": "code",
   "execution_count": 30,
   "id": "0bec17be",
   "metadata": {},
   "outputs": [],
   "source": [
    "df1[\"vehicle damage\"].fillna(df1[\"vehicle damage\"].mode()[0],inplace = True)"
   ]
  },
  {
   "cell_type": "code",
   "execution_count": 31,
   "id": "73457e2d",
   "metadata": {},
   "outputs": [
    {
     "data": {
      "text/plain": [
       "customer_id                0\n",
       "Gender                     0\n",
       "age                        0\n",
       "driving licence present    0\n",
       "region code                0\n",
       "previously insured         0\n",
       "vehicle age                0\n",
       "vehicle damage             0\n",
       "dtype: int64"
      ]
     },
     "execution_count": 31,
     "metadata": {},
     "output_type": "execute_result"
    }
   ],
   "source": [
    "df1.isnull().sum()"
   ]
  },
  {
   "cell_type": "code",
   "execution_count": 33,
   "id": "7a8638c2",
   "metadata": {},
   "outputs": [
    {
     "data": {
      "text/plain": [
       "customer_id               387\n",
       "annual premium (in Rs)    346\n",
       "sales channel code        400\n",
       "vintage                   388\n",
       "response                  361\n",
       "dtype: int64"
      ]
     },
     "execution_count": 33,
     "metadata": {},
     "output_type": "execute_result"
    }
   ],
   "source": [
    "# 1.Generate a summary of count of all the null values column wise\n",
    "\n",
    "# for customer_policy_details(df2)\n",
    "\n",
    "df2.isnull().sum()"
   ]
  },
  {
   "cell_type": "code",
   "execution_count": 34,
   "id": "6819e1b1",
   "metadata": {},
   "outputs": [],
   "source": [
    "# 2.Drop Null values for customer_id because central tendencies for id’s is not feasible.\n",
    "\n",
    "# for customer_policy_details(df2)\n",
    "\n",
    "df2.dropna(subset = [\"customer_id\"],inplace = True)"
   ]
  },
  {
   "cell_type": "code",
   "execution_count": 35,
   "id": "4fd67f9f",
   "metadata": {},
   "outputs": [
    {
     "data": {
      "text/plain": [
       "customer_id                 0\n",
       "annual premium (in Rs)    344\n",
       "sales channel code        400\n",
       "vintage                   388\n",
       "response                  361\n",
       "dtype: int64"
      ]
     },
     "execution_count": 35,
     "metadata": {},
     "output_type": "execute_result"
    }
   ],
   "source": [
    "df2.isnull().sum()"
   ]
  },
  {
   "cell_type": "code",
   "execution_count": 38,
   "id": "af37d6f8",
   "metadata": {},
   "outputs": [],
   "source": [
    "# 3.Replace all null values for numeric columns by mean. \n",
    "\n",
    "# for customer_policy_details(df2).\n",
    "\n",
    "# 'annual premium (in Rs)','sales channel code','vintage' columns contain numerical data and remaining columns contain categorical data.\n",
    "\n",
    "df2[\"annual premium (in Rs)\"].fillna(df2[\"annual premium (in Rs)\"].mean(),inplace = True)"
   ]
  },
  {
   "cell_type": "code",
   "execution_count": 39,
   "id": "b5907240",
   "metadata": {},
   "outputs": [
    {
     "data": {
      "text/plain": [
       "customer_id                 0\n",
       "annual premium (in Rs)      0\n",
       "sales channel code        400\n",
       "vintage                   388\n",
       "response                  361\n",
       "dtype: int64"
      ]
     },
     "execution_count": 39,
     "metadata": {},
     "output_type": "execute_result"
    }
   ],
   "source": [
    "df2.isnull().sum()"
   ]
  },
  {
   "cell_type": "code",
   "execution_count": 40,
   "id": "3bc0f761",
   "metadata": {},
   "outputs": [],
   "source": [
    "df2[\"sales channel code\"].fillna(df2[\"sales channel code\"].mean(),inplace = True)"
   ]
  },
  {
   "cell_type": "code",
   "execution_count": 41,
   "id": "f25c5b88",
   "metadata": {},
   "outputs": [
    {
     "data": {
      "text/plain": [
       "customer_id                 0\n",
       "annual premium (in Rs)      0\n",
       "sales channel code          0\n",
       "vintage                   388\n",
       "response                  361\n",
       "dtype: int64"
      ]
     },
     "execution_count": 41,
     "metadata": {},
     "output_type": "execute_result"
    }
   ],
   "source": [
    "df2.isnull().sum()"
   ]
  },
  {
   "cell_type": "code",
   "execution_count": 42,
   "id": "8c6bafe5",
   "metadata": {},
   "outputs": [],
   "source": [
    "df2[\"vintage\"].fillna(df2[\"vintage\"].mean(),inplace = True)"
   ]
  },
  {
   "cell_type": "code",
   "execution_count": 43,
   "id": "d92da76b",
   "metadata": {},
   "outputs": [
    {
     "data": {
      "text/plain": [
       "customer_id                 0\n",
       "annual premium (in Rs)      0\n",
       "sales channel code          0\n",
       "vintage                     0\n",
       "response                  361\n",
       "dtype: int64"
      ]
     },
     "execution_count": 43,
     "metadata": {},
     "output_type": "execute_result"
    }
   ],
   "source": [
    "df2.isnull().sum()"
   ]
  },
  {
   "cell_type": "code",
   "execution_count": 44,
   "id": "cd168b3b",
   "metadata": {},
   "outputs": [],
   "source": [
    "# 4.Replace all null values for Categorical value by mode.\n",
    "\n",
    "# for customer_policy_details(df2).\n",
    "\n",
    "# only 'responce' is the categorical column\n",
    "\n",
    "df2[\"response\"].fillna(df2[\"response\"].mode()[0],inplace = True)"
   ]
  },
  {
   "cell_type": "code",
   "execution_count": 45,
   "id": "c3cf9330",
   "metadata": {},
   "outputs": [
    {
     "data": {
      "text/plain": [
       "customer_id               0\n",
       "annual premium (in Rs)    0\n",
       "sales channel code        0\n",
       "vintage                   0\n",
       "response                  0\n",
       "dtype: int64"
      ]
     },
     "execution_count": 45,
     "metadata": {},
     "output_type": "execute_result"
    }
   ],
   "source": [
    "df2.isnull().sum()"
   ]
  },
  {
   "cell_type": "markdown",
   "id": "147cb9a7",
   "metadata": {},
   "source": [
    "## 2. Outliers\n",
    "\n"
   ]
  },
  {
   "cell_type": "code",
   "execution_count": 46,
   "id": "280c08ac",
   "metadata": {},
   "outputs": [
    {
     "data": {
      "text/html": [
       "<div>\n",
       "<style scoped>\n",
       "    .dataframe tbody tr th:only-of-type {\n",
       "        vertical-align: middle;\n",
       "    }\n",
       "\n",
       "    .dataframe tbody tr th {\n",
       "        vertical-align: top;\n",
       "    }\n",
       "\n",
       "    .dataframe thead th {\n",
       "        text-align: right;\n",
       "    }\n",
       "</style>\n",
       "<table border=\"1\" class=\"dataframe\">\n",
       "  <thead>\n",
       "    <tr style=\"text-align: right;\">\n",
       "      <th></th>\n",
       "      <th>customer_id</th>\n",
       "      <th>age</th>\n",
       "      <th>driving licence present</th>\n",
       "      <th>region code</th>\n",
       "      <th>previously insured</th>\n",
       "    </tr>\n",
       "  </thead>\n",
       "  <tbody>\n",
       "    <tr>\n",
       "      <th>count</th>\n",
       "      <td>380723.000000</td>\n",
       "      <td>380723.000000</td>\n",
       "      <td>380723.000000</td>\n",
       "      <td>380723.000000</td>\n",
       "      <td>380723.000000</td>\n",
       "    </tr>\n",
       "    <tr>\n",
       "      <th>mean</th>\n",
       "      <td>190548.776244</td>\n",
       "      <td>38.822788</td>\n",
       "      <td>0.997870</td>\n",
       "      <td>26.389436</td>\n",
       "      <td>0.457800</td>\n",
       "    </tr>\n",
       "    <tr>\n",
       "      <th>std</th>\n",
       "      <td>110016.805160</td>\n",
       "      <td>15.504826</td>\n",
       "      <td>0.046105</td>\n",
       "      <td>13.223671</td>\n",
       "      <td>0.498217</td>\n",
       "    </tr>\n",
       "    <tr>\n",
       "      <th>min</th>\n",
       "      <td>1.000000</td>\n",
       "      <td>20.000000</td>\n",
       "      <td>0.000000</td>\n",
       "      <td>0.000000</td>\n",
       "      <td>0.000000</td>\n",
       "    </tr>\n",
       "    <tr>\n",
       "      <th>25%</th>\n",
       "      <td>95269.500000</td>\n",
       "      <td>25.000000</td>\n",
       "      <td>1.000000</td>\n",
       "      <td>15.000000</td>\n",
       "      <td>0.000000</td>\n",
       "    </tr>\n",
       "    <tr>\n",
       "      <th>50%</th>\n",
       "      <td>190543.000000</td>\n",
       "      <td>36.000000</td>\n",
       "      <td>1.000000</td>\n",
       "      <td>28.000000</td>\n",
       "      <td>0.000000</td>\n",
       "    </tr>\n",
       "    <tr>\n",
       "      <th>75%</th>\n",
       "      <td>285822.500000</td>\n",
       "      <td>49.000000</td>\n",
       "      <td>1.000000</td>\n",
       "      <td>35.000000</td>\n",
       "      <td>1.000000</td>\n",
       "    </tr>\n",
       "    <tr>\n",
       "      <th>max</th>\n",
       "      <td>381109.000000</td>\n",
       "      <td>85.000000</td>\n",
       "      <td>1.000000</td>\n",
       "      <td>52.000000</td>\n",
       "      <td>1.000000</td>\n",
       "    </tr>\n",
       "  </tbody>\n",
       "</table>\n",
       "</div>"
      ],
      "text/plain": [
       "         customer_id            age  driving licence present    region code  \\\n",
       "count  380723.000000  380723.000000            380723.000000  380723.000000   \n",
       "mean   190548.776244      38.822788                 0.997870      26.389436   \n",
       "std    110016.805160      15.504826                 0.046105      13.223671   \n",
       "min         1.000000      20.000000                 0.000000       0.000000   \n",
       "25%     95269.500000      25.000000                 1.000000      15.000000   \n",
       "50%    190543.000000      36.000000                 1.000000      28.000000   \n",
       "75%    285822.500000      49.000000                 1.000000      35.000000   \n",
       "max    381109.000000      85.000000                 1.000000      52.000000   \n",
       "\n",
       "       previously insured  \n",
       "count       380723.000000  \n",
       "mean             0.457800  \n",
       "std              0.498217  \n",
       "min              0.000000  \n",
       "25%              0.000000  \n",
       "50%              0.000000  \n",
       "75%              1.000000  \n",
       "max              1.000000  "
      ]
     },
     "execution_count": 46,
     "metadata": {},
     "output_type": "execute_result"
    }
   ],
   "source": [
    "# 1.Generate a summary of count of all the outliers column wise\n",
    "\n",
    "# customer_details dataset(df1).\n",
    "\n",
    "df1.describe()"
   ]
  },
  {
   "cell_type": "code",
   "execution_count": 49,
   "id": "d85ec6f1",
   "metadata": {},
   "outputs": [],
   "source": [
    "Q1 = df1.quantile(0.25)\n",
    "Q3 = df1.quantile(0.75)"
   ]
  },
  {
   "cell_type": "code",
   "execution_count": 50,
   "id": "b00203c6",
   "metadata": {},
   "outputs": [],
   "source": [
    "IQR = Q3 - Q1"
   ]
  },
  {
   "cell_type": "code",
   "execution_count": 51,
   "id": "f3061400",
   "metadata": {},
   "outputs": [
    {
     "name": "stderr",
     "output_type": "stream",
     "text": [
      "C:\\Users\\91953\\AppData\\Local\\Temp\\ipykernel_4972\\3113731443.py:1: FutureWarning: Automatic reindexing on DataFrame vs Series comparisons is deprecated and will raise ValueError in a future version. Do `left, right = left.align(right, axis=1, copy=False)` before e.g. `left == right`\n",
      "  ((df1 <(Q1 - 1.5*IQR)) | (df1 >(Q3 + 1.5*IQR))).sum()\n"
     ]
    },
    {
     "data": {
      "text/plain": [
       "Gender                       0\n",
       "age                          0\n",
       "customer_id                  0\n",
       "driving licence present    811\n",
       "previously insured           0\n",
       "region code                  0\n",
       "vehicle age                  0\n",
       "vehicle damage               0\n",
       "dtype: int64"
      ]
     },
     "execution_count": 51,
     "metadata": {},
     "output_type": "execute_result"
    }
   ],
   "source": [
    "((df1 <(Q1 - 1.5*IQR)) | (df1 >(Q3 + 1.5*IQR))).sum()"
   ]
  },
  {
   "cell_type": "code",
   "execution_count": 58,
   "id": "9a9c4e3e",
   "metadata": {},
   "outputs": [],
   "source": [
    "# for customer_details dataset(df1)\n",
    "# From above table we can conclude that no outliers for numeric columns('age','region code') \n",
    "# only 'driving licence present' column have outliers but it is categorical column"
   ]
  },
  {
   "cell_type": "code",
   "execution_count": 53,
   "id": "4a99e679",
   "metadata": {},
   "outputs": [
    {
     "data": {
      "text/html": [
       "<div>\n",
       "<style scoped>\n",
       "    .dataframe tbody tr th:only-of-type {\n",
       "        vertical-align: middle;\n",
       "    }\n",
       "\n",
       "    .dataframe tbody tr th {\n",
       "        vertical-align: top;\n",
       "    }\n",
       "\n",
       "    .dataframe thead th {\n",
       "        text-align: right;\n",
       "    }\n",
       "</style>\n",
       "<table border=\"1\" class=\"dataframe\">\n",
       "  <thead>\n",
       "    <tr style=\"text-align: right;\">\n",
       "      <th></th>\n",
       "      <th>customer_id</th>\n",
       "      <th>annual premium (in Rs)</th>\n",
       "      <th>sales channel code</th>\n",
       "      <th>vintage</th>\n",
       "      <th>response</th>\n",
       "    </tr>\n",
       "  </thead>\n",
       "  <tbody>\n",
       "    <tr>\n",
       "      <th>count</th>\n",
       "      <td>380722.000000</td>\n",
       "      <td>380722.000000</td>\n",
       "      <td>380722.000000</td>\n",
       "      <td>380722.000000</td>\n",
       "      <td>380722.000000</td>\n",
       "    </tr>\n",
       "    <tr>\n",
       "      <th>mean</th>\n",
       "      <td>190547.491663</td>\n",
       "      <td>30563.999774</td>\n",
       "      <td>112.036687</td>\n",
       "      <td>154.347192</td>\n",
       "      <td>0.122410</td>\n",
       "    </tr>\n",
       "    <tr>\n",
       "      <th>std</th>\n",
       "      <td>110013.824148</td>\n",
       "      <td>17190.147550</td>\n",
       "      <td>54.177046</td>\n",
       "      <td>83.628096</td>\n",
       "      <td>0.327759</td>\n",
       "    </tr>\n",
       "    <tr>\n",
       "      <th>min</th>\n",
       "      <td>1.000000</td>\n",
       "      <td>2630.000000</td>\n",
       "      <td>1.000000</td>\n",
       "      <td>10.000000</td>\n",
       "      <td>0.000000</td>\n",
       "    </tr>\n",
       "    <tr>\n",
       "      <th>25%</th>\n",
       "      <td>95276.250000</td>\n",
       "      <td>24416.000000</td>\n",
       "      <td>29.000000</td>\n",
       "      <td>82.000000</td>\n",
       "      <td>0.000000</td>\n",
       "    </tr>\n",
       "    <tr>\n",
       "      <th>50%</th>\n",
       "      <td>190536.500000</td>\n",
       "      <td>31656.000000</td>\n",
       "      <td>131.000000</td>\n",
       "      <td>154.000000</td>\n",
       "      <td>0.000000</td>\n",
       "    </tr>\n",
       "    <tr>\n",
       "      <th>75%</th>\n",
       "      <td>285818.750000</td>\n",
       "      <td>39391.750000</td>\n",
       "      <td>152.000000</td>\n",
       "      <td>227.000000</td>\n",
       "      <td>0.000000</td>\n",
       "    </tr>\n",
       "    <tr>\n",
       "      <th>max</th>\n",
       "      <td>381109.000000</td>\n",
       "      <td>540165.000000</td>\n",
       "      <td>163.000000</td>\n",
       "      <td>299.000000</td>\n",
       "      <td>1.000000</td>\n",
       "    </tr>\n",
       "  </tbody>\n",
       "</table>\n",
       "</div>"
      ],
      "text/plain": [
       "         customer_id  annual premium (in Rs)  sales channel code  \\\n",
       "count  380722.000000           380722.000000       380722.000000   \n",
       "mean   190547.491663            30563.999774          112.036687   \n",
       "std    110013.824148            17190.147550           54.177046   \n",
       "min         1.000000             2630.000000            1.000000   \n",
       "25%     95276.250000            24416.000000           29.000000   \n",
       "50%    190536.500000            31656.000000          131.000000   \n",
       "75%    285818.750000            39391.750000          152.000000   \n",
       "max    381109.000000           540165.000000          163.000000   \n",
       "\n",
       "             vintage       response  \n",
       "count  380722.000000  380722.000000  \n",
       "mean      154.347192       0.122410  \n",
       "std        83.628096       0.327759  \n",
       "min        10.000000       0.000000  \n",
       "25%        82.000000       0.000000  \n",
       "50%       154.000000       0.000000  \n",
       "75%       227.000000       0.000000  \n",
       "max       299.000000       1.000000  "
      ]
     },
     "execution_count": 53,
     "metadata": {},
     "output_type": "execute_result"
    }
   ],
   "source": [
    "# for customer_policy_details(df2).\n",
    "\n",
    "df2.describe()"
   ]
  },
  {
   "cell_type": "code",
   "execution_count": 54,
   "id": "92c85e2d",
   "metadata": {},
   "outputs": [],
   "source": [
    "Q1 = df2.quantile(0.25)\n",
    "Q3 = df2.quantile(0.75)"
   ]
  },
  {
   "cell_type": "code",
   "execution_count": 55,
   "id": "dcef40d7",
   "metadata": {},
   "outputs": [],
   "source": [
    "IQR = Q3 - Q1"
   ]
  },
  {
   "cell_type": "code",
   "execution_count": 56,
   "id": "176da984",
   "metadata": {},
   "outputs": [
    {
     "data": {
      "text/plain": [
       "customer_id                   0\n",
       "annual premium (in Rs)    10332\n",
       "sales channel code            0\n",
       "vintage                       0\n",
       "response                  46604\n",
       "dtype: int64"
      ]
     },
     "execution_count": 56,
     "metadata": {},
     "output_type": "execute_result"
    }
   ],
   "source": [
    "((df2 <(Q1 - 1.5*IQR)) | (df2 >(Q3 + 1.5*IQR))).sum()"
   ]
  },
  {
   "cell_type": "code",
   "execution_count": 61,
   "id": "29effff7",
   "metadata": {},
   "outputs": [],
   "source": [
    "# for customer_policy_details(df2)\n",
    "# From above table we can conclude that outliers are present only for 'annual premium (in Rs)' column\n",
    "# even 'response' column contain outliers but is categorical column."
   ]
  },
  {
   "cell_type": "code",
   "execution_count": 62,
   "id": "5d6b2fef",
   "metadata": {},
   "outputs": [],
   "source": [
    "# 2.Replace all outlier values for numeric columns by mean.\n",
    "\n",
    "# No need to replace outlier values for numeric columns by mean for customer_details dataset(df1) as no outliers for numerical column \n",
    "\n",
    "# outliers are present in customer_policy_details(df2) column 'annual premium (in Rs)'"
   ]
  },
  {
   "cell_type": "code",
   "execution_count": 63,
   "id": "3f5420cd",
   "metadata": {},
   "outputs": [],
   "source": [
    "Q1 = df2['annual premium (in Rs)'].quantile(0.25)\n",
    "Q3 = df2['annual premium (in Rs)'].quantile(0.75)"
   ]
  },
  {
   "cell_type": "code",
   "execution_count": 71,
   "id": "a8d87f6e",
   "metadata": {},
   "outputs": [
    {
     "data": {
      "text/plain": [
       "24416.0"
      ]
     },
     "execution_count": 71,
     "metadata": {},
     "output_type": "execute_result"
    }
   ],
   "source": [
    "Q1"
   ]
  },
  {
   "cell_type": "code",
   "execution_count": 73,
   "id": "f2652be9",
   "metadata": {},
   "outputs": [
    {
     "data": {
      "text/plain": [
       "39391.75"
      ]
     },
     "execution_count": 73,
     "metadata": {},
     "output_type": "execute_result"
    }
   ],
   "source": [
    "Q3"
   ]
  },
  {
   "cell_type": "code",
   "execution_count": 74,
   "id": "227d3951",
   "metadata": {},
   "outputs": [],
   "source": [
    "IQR = Q3 - Q1"
   ]
  },
  {
   "cell_type": "code",
   "execution_count": 75,
   "id": "91f9aeb1",
   "metadata": {},
   "outputs": [
    {
     "data": {
      "text/plain": [
       "14975.75"
      ]
     },
     "execution_count": 75,
     "metadata": {},
     "output_type": "execute_result"
    }
   ],
   "source": [
    "IQR"
   ]
  },
  {
   "cell_type": "code",
   "execution_count": 78,
   "id": "def50e90",
   "metadata": {},
   "outputs": [
    {
     "name": "stdout",
     "output_type": "stream",
     "text": [
      "1952.375\n",
      "61855.375\n"
     ]
    }
   ],
   "source": [
    "Lower = Q1 - 1.5*IQR\n",
    "print(Lower)\n",
    "Upper = Q3 + 1.5*IQR\n",
    "print(Upper)"
   ]
  },
  {
   "cell_type": "code",
   "execution_count": 80,
   "id": "81dd5a79",
   "metadata": {},
   "outputs": [
    {
     "data": {
      "text/plain": [
       "annual premium (in Rs)    10332\n",
       "dtype: int64"
      ]
     },
     "execution_count": 80,
     "metadata": {},
     "output_type": "execute_result"
    }
   ],
   "source": [
    "((df2[[\"annual premium (in Rs)\"]]<Lower) | (df2[[\"annual premium (in Rs)\"]]>Upper)).sum()"
   ]
  },
  {
   "cell_type": "code",
   "execution_count": 82,
   "id": "3ec5f757",
   "metadata": {},
   "outputs": [],
   "source": [
    "Row_count = ((df2[[\"annual premium (in Rs)\"]]<Lower) | (df2[[\"annual premium (in Rs)\"]]>Upper))"
   ]
  },
  {
   "cell_type": "code",
   "execution_count": 84,
   "id": "45099e56",
   "metadata": {},
   "outputs": [],
   "source": [
    "Row_count_index = Row_count[Row_count[\"annual premium (in Rs)\"]].index"
   ]
  },
  {
   "cell_type": "code",
   "execution_count": 85,
   "id": "2a188c54",
   "metadata": {},
   "outputs": [
    {
     "data": {
      "text/plain": [
       "Int64Index([    25,     37,     67,    139,    149,    167,    176,    216,\n",
       "               310,    315,\n",
       "            ...\n",
       "            380655, 380733, 380761, 380815, 380860, 380959, 380998, 381035,\n",
       "            381047, 381079],\n",
       "           dtype='int64', length=10332)"
      ]
     },
     "execution_count": 85,
     "metadata": {},
     "output_type": "execute_result"
    }
   ],
   "source": [
    "Row_count_index"
   ]
  },
  {
   "cell_type": "code",
   "execution_count": 86,
   "id": "e843cd78",
   "metadata": {},
   "outputs": [],
   "source": [
    "df2.loc[Row_count_index,\"annual premium (in Rs)\"] = df2[\"annual premium (in Rs)\"].mean()"
   ]
  },
  {
   "cell_type": "code",
   "execution_count": 87,
   "id": "6ff7fd28",
   "metadata": {},
   "outputs": [
    {
     "data": {
      "text/plain": [
       "annual premium (in Rs)    0\n",
       "dtype: int64"
      ]
     },
     "execution_count": 87,
     "metadata": {},
     "output_type": "execute_result"
    }
   ],
   "source": [
    "((df2[[\"annual premium (in Rs)\"]]<Lower) | (df2[[\"annual premium (in Rs)\"]]>Upper)).sum()"
   ]
  },
  {
   "cell_type": "markdown",
   "id": "ccd07697",
   "metadata": {},
   "source": [
    "### 3. White spaces"
   ]
  },
  {
   "cell_type": "code",
   "execution_count": 88,
   "id": "89730a41",
   "metadata": {},
   "outputs": [
    {
     "data": {
      "text/plain": [
       "0           Male\n",
       "1           Male\n",
       "2           Male\n",
       "3           Male\n",
       "4         Female\n",
       "           ...  \n",
       "381104      Male\n",
       "381105      Male\n",
       "381106      Male\n",
       "381107    Female\n",
       "381108      Male\n",
       "Name: Gender, Length: 380723, dtype: object"
      ]
     },
     "execution_count": 88,
     "metadata": {},
     "output_type": "execute_result"
    }
   ],
   "source": [
    "# Remove white spaces\n",
    "\n",
    "df1['Gender'].str.strip()"
   ]
  },
  {
   "cell_type": "code",
   "execution_count": 89,
   "id": "acce171f",
   "metadata": {},
   "outputs": [],
   "source": [
    "# In dataset df1 except 'Gender' column remaing columns are float values and in df2 dataset all columns are float values so no need to remove white spaces"
   ]
  },
  {
   "cell_type": "markdown",
   "id": "d5e8078b",
   "metadata": {},
   "source": [
    "### 4. Case correction(lower or upper, any one)"
   ]
  },
  {
   "cell_type": "code",
   "execution_count": 90,
   "id": "c1578b7b",
   "metadata": {},
   "outputs": [
    {
     "data": {
      "text/html": [
       "<div>\n",
       "<style scoped>\n",
       "    .dataframe tbody tr th:only-of-type {\n",
       "        vertical-align: middle;\n",
       "    }\n",
       "\n",
       "    .dataframe tbody tr th {\n",
       "        vertical-align: top;\n",
       "    }\n",
       "\n",
       "    .dataframe thead th {\n",
       "        text-align: right;\n",
       "    }\n",
       "</style>\n",
       "<table border=\"1\" class=\"dataframe\">\n",
       "  <thead>\n",
       "    <tr style=\"text-align: right;\">\n",
       "      <th></th>\n",
       "      <th>customer_id</th>\n",
       "      <th>Gender</th>\n",
       "      <th>age</th>\n",
       "      <th>driving licence present</th>\n",
       "      <th>region code</th>\n",
       "      <th>previously insured</th>\n",
       "      <th>vehicle age</th>\n",
       "      <th>vehicle damage</th>\n",
       "    </tr>\n",
       "  </thead>\n",
       "  <tbody>\n",
       "    <tr>\n",
       "      <th>0</th>\n",
       "      <td>1.0</td>\n",
       "      <td>MALE</td>\n",
       "      <td>44.0</td>\n",
       "      <td>1.0</td>\n",
       "      <td>28.0</td>\n",
       "      <td>0.0</td>\n",
       "      <td>&gt; 2 YEARS</td>\n",
       "      <td>YES</td>\n",
       "    </tr>\n",
       "    <tr>\n",
       "      <th>1</th>\n",
       "      <td>2.0</td>\n",
       "      <td>MALE</td>\n",
       "      <td>76.0</td>\n",
       "      <td>1.0</td>\n",
       "      <td>3.0</td>\n",
       "      <td>0.0</td>\n",
       "      <td>1-2 YEAR</td>\n",
       "      <td>NO</td>\n",
       "    </tr>\n",
       "    <tr>\n",
       "      <th>2</th>\n",
       "      <td>3.0</td>\n",
       "      <td>MALE</td>\n",
       "      <td>47.0</td>\n",
       "      <td>1.0</td>\n",
       "      <td>28.0</td>\n",
       "      <td>0.0</td>\n",
       "      <td>&gt; 2 YEARS</td>\n",
       "      <td>YES</td>\n",
       "    </tr>\n",
       "    <tr>\n",
       "      <th>3</th>\n",
       "      <td>4.0</td>\n",
       "      <td>MALE</td>\n",
       "      <td>21.0</td>\n",
       "      <td>1.0</td>\n",
       "      <td>11.0</td>\n",
       "      <td>1.0</td>\n",
       "      <td>&lt; 1 YEAR</td>\n",
       "      <td>NO</td>\n",
       "    </tr>\n",
       "    <tr>\n",
       "      <th>4</th>\n",
       "      <td>5.0</td>\n",
       "      <td>FEMALE</td>\n",
       "      <td>29.0</td>\n",
       "      <td>1.0</td>\n",
       "      <td>41.0</td>\n",
       "      <td>1.0</td>\n",
       "      <td>&lt; 1 YEAR</td>\n",
       "      <td>NO</td>\n",
       "    </tr>\n",
       "    <tr>\n",
       "      <th>...</th>\n",
       "      <td>...</td>\n",
       "      <td>...</td>\n",
       "      <td>...</td>\n",
       "      <td>...</td>\n",
       "      <td>...</td>\n",
       "      <td>...</td>\n",
       "      <td>...</td>\n",
       "      <td>...</td>\n",
       "    </tr>\n",
       "    <tr>\n",
       "      <th>381104</th>\n",
       "      <td>381105.0</td>\n",
       "      <td>MALE</td>\n",
       "      <td>74.0</td>\n",
       "      <td>1.0</td>\n",
       "      <td>26.0</td>\n",
       "      <td>1.0</td>\n",
       "      <td>1-2 YEAR</td>\n",
       "      <td>NO</td>\n",
       "    </tr>\n",
       "    <tr>\n",
       "      <th>381105</th>\n",
       "      <td>381106.0</td>\n",
       "      <td>MALE</td>\n",
       "      <td>30.0</td>\n",
       "      <td>1.0</td>\n",
       "      <td>37.0</td>\n",
       "      <td>1.0</td>\n",
       "      <td>&lt; 1 YEAR</td>\n",
       "      <td>NO</td>\n",
       "    </tr>\n",
       "    <tr>\n",
       "      <th>381106</th>\n",
       "      <td>381107.0</td>\n",
       "      <td>MALE</td>\n",
       "      <td>21.0</td>\n",
       "      <td>1.0</td>\n",
       "      <td>30.0</td>\n",
       "      <td>1.0</td>\n",
       "      <td>&lt; 1 YEAR</td>\n",
       "      <td>NO</td>\n",
       "    </tr>\n",
       "    <tr>\n",
       "      <th>381107</th>\n",
       "      <td>381108.0</td>\n",
       "      <td>FEMALE</td>\n",
       "      <td>68.0</td>\n",
       "      <td>1.0</td>\n",
       "      <td>14.0</td>\n",
       "      <td>0.0</td>\n",
       "      <td>&gt; 2 YEARS</td>\n",
       "      <td>YES</td>\n",
       "    </tr>\n",
       "    <tr>\n",
       "      <th>381108</th>\n",
       "      <td>381109.0</td>\n",
       "      <td>MALE</td>\n",
       "      <td>46.0</td>\n",
       "      <td>1.0</td>\n",
       "      <td>29.0</td>\n",
       "      <td>0.0</td>\n",
       "      <td>1-2 YEAR</td>\n",
       "      <td>NO</td>\n",
       "    </tr>\n",
       "  </tbody>\n",
       "</table>\n",
       "<p>380723 rows × 8 columns</p>\n",
       "</div>"
      ],
      "text/plain": [
       "        customer_id  Gender   age  driving licence present  region code  \\\n",
       "0               1.0    MALE  44.0                      1.0         28.0   \n",
       "1               2.0    MALE  76.0                      1.0          3.0   \n",
       "2               3.0    MALE  47.0                      1.0         28.0   \n",
       "3               4.0    MALE  21.0                      1.0         11.0   \n",
       "4               5.0  FEMALE  29.0                      1.0         41.0   \n",
       "...             ...     ...   ...                      ...          ...   \n",
       "381104     381105.0    MALE  74.0                      1.0         26.0   \n",
       "381105     381106.0    MALE  30.0                      1.0         37.0   \n",
       "381106     381107.0    MALE  21.0                      1.0         30.0   \n",
       "381107     381108.0  FEMALE  68.0                      1.0         14.0   \n",
       "381108     381109.0    MALE  46.0                      1.0         29.0   \n",
       "\n",
       "        previously insured vehicle age vehicle damage  \n",
       "0                      0.0   > 2 YEARS            YES  \n",
       "1                      0.0    1-2 YEAR             NO  \n",
       "2                      0.0   > 2 YEARS            YES  \n",
       "3                      1.0    < 1 YEAR             NO  \n",
       "4                      1.0    < 1 YEAR             NO  \n",
       "...                    ...         ...            ...  \n",
       "381104                 1.0    1-2 YEAR             NO  \n",
       "381105                 1.0    < 1 YEAR             NO  \n",
       "381106                 1.0    < 1 YEAR             NO  \n",
       "381107                 0.0   > 2 YEARS            YES  \n",
       "381108                 0.0    1-2 YEAR             NO  \n",
       "\n",
       "[380723 rows x 8 columns]"
      ]
     },
     "execution_count": 90,
     "metadata": {},
     "output_type": "execute_result"
    }
   ],
   "source": [
    "df1.apply(lambda x: x.str.upper() if x.dtype=='object' else x)"
   ]
  },
  {
   "cell_type": "markdown",
   "id": "7fe7ed0e",
   "metadata": {},
   "source": [
    "### 5.Convert nominal data (categorical) into dummies \n",
    "\n"
   ]
  },
  {
   "cell_type": "code",
   "execution_count": 92,
   "id": "3b4ab52e",
   "metadata": {},
   "outputs": [],
   "source": [
    "dummy_variable_1 = pd.get_dummies(df1['vehicle damage'])"
   ]
  },
  {
   "cell_type": "code",
   "execution_count": 93,
   "id": "f20059b5",
   "metadata": {},
   "outputs": [
    {
     "data": {
      "text/html": [
       "<div>\n",
       "<style scoped>\n",
       "    .dataframe tbody tr th:only-of-type {\n",
       "        vertical-align: middle;\n",
       "    }\n",
       "\n",
       "    .dataframe tbody tr th {\n",
       "        vertical-align: top;\n",
       "    }\n",
       "\n",
       "    .dataframe thead th {\n",
       "        text-align: right;\n",
       "    }\n",
       "</style>\n",
       "<table border=\"1\" class=\"dataframe\">\n",
       "  <thead>\n",
       "    <tr style=\"text-align: right;\">\n",
       "      <th></th>\n",
       "      <th>No</th>\n",
       "      <th>Yes</th>\n",
       "    </tr>\n",
       "  </thead>\n",
       "  <tbody>\n",
       "    <tr>\n",
       "      <th>0</th>\n",
       "      <td>0</td>\n",
       "      <td>1</td>\n",
       "    </tr>\n",
       "    <tr>\n",
       "      <th>1</th>\n",
       "      <td>1</td>\n",
       "      <td>0</td>\n",
       "    </tr>\n",
       "    <tr>\n",
       "      <th>2</th>\n",
       "      <td>0</td>\n",
       "      <td>1</td>\n",
       "    </tr>\n",
       "    <tr>\n",
       "      <th>3</th>\n",
       "      <td>1</td>\n",
       "      <td>0</td>\n",
       "    </tr>\n",
       "    <tr>\n",
       "      <th>4</th>\n",
       "      <td>1</td>\n",
       "      <td>0</td>\n",
       "    </tr>\n",
       "  </tbody>\n",
       "</table>\n",
       "</div>"
      ],
      "text/plain": [
       "   No  Yes\n",
       "0   0    1\n",
       "1   1    0\n",
       "2   0    1\n",
       "3   1    0\n",
       "4   1    0"
      ]
     },
     "execution_count": 93,
     "metadata": {},
     "output_type": "execute_result"
    }
   ],
   "source": [
    "dummy_variable_1.head()"
   ]
  },
  {
   "cell_type": "code",
   "execution_count": 94,
   "id": "20a5dfea",
   "metadata": {},
   "outputs": [],
   "source": [
    "dummy_variable_1.rename(columns = {'No':'vehicle damage_No','Yes':'vehicle damage_yes'},inplace = True)"
   ]
  },
  {
   "cell_type": "code",
   "execution_count": 95,
   "id": "c7285e32",
   "metadata": {},
   "outputs": [
    {
     "data": {
      "text/html": [
       "<div>\n",
       "<style scoped>\n",
       "    .dataframe tbody tr th:only-of-type {\n",
       "        vertical-align: middle;\n",
       "    }\n",
       "\n",
       "    .dataframe tbody tr th {\n",
       "        vertical-align: top;\n",
       "    }\n",
       "\n",
       "    .dataframe thead th {\n",
       "        text-align: right;\n",
       "    }\n",
       "</style>\n",
       "<table border=\"1\" class=\"dataframe\">\n",
       "  <thead>\n",
       "    <tr style=\"text-align: right;\">\n",
       "      <th></th>\n",
       "      <th>vehicle damage_No</th>\n",
       "      <th>vehicle damage_yes</th>\n",
       "    </tr>\n",
       "  </thead>\n",
       "  <tbody>\n",
       "    <tr>\n",
       "      <th>0</th>\n",
       "      <td>0</td>\n",
       "      <td>1</td>\n",
       "    </tr>\n",
       "    <tr>\n",
       "      <th>1</th>\n",
       "      <td>1</td>\n",
       "      <td>0</td>\n",
       "    </tr>\n",
       "    <tr>\n",
       "      <th>2</th>\n",
       "      <td>0</td>\n",
       "      <td>1</td>\n",
       "    </tr>\n",
       "    <tr>\n",
       "      <th>3</th>\n",
       "      <td>1</td>\n",
       "      <td>0</td>\n",
       "    </tr>\n",
       "    <tr>\n",
       "      <th>4</th>\n",
       "      <td>1</td>\n",
       "      <td>0</td>\n",
       "    </tr>\n",
       "  </tbody>\n",
       "</table>\n",
       "</div>"
      ],
      "text/plain": [
       "   vehicle damage_No  vehicle damage_yes\n",
       "0                  0                   1\n",
       "1                  1                   0\n",
       "2                  0                   1\n",
       "3                  1                   0\n",
       "4                  1                   0"
      ]
     },
     "execution_count": 95,
     "metadata": {},
     "output_type": "execute_result"
    }
   ],
   "source": [
    "dummy_variable_1.head()"
   ]
  },
  {
   "cell_type": "code",
   "execution_count": 96,
   "id": "74d7a7d1",
   "metadata": {},
   "outputs": [],
   "source": [
    "df1 = pd.concat([df1,dummy_variable_1],axis = 1)"
   ]
  },
  {
   "cell_type": "code",
   "execution_count": 97,
   "id": "8dd60344",
   "metadata": {},
   "outputs": [
    {
     "data": {
      "text/html": [
       "<div>\n",
       "<style scoped>\n",
       "    .dataframe tbody tr th:only-of-type {\n",
       "        vertical-align: middle;\n",
       "    }\n",
       "\n",
       "    .dataframe tbody tr th {\n",
       "        vertical-align: top;\n",
       "    }\n",
       "\n",
       "    .dataframe thead th {\n",
       "        text-align: right;\n",
       "    }\n",
       "</style>\n",
       "<table border=\"1\" class=\"dataframe\">\n",
       "  <thead>\n",
       "    <tr style=\"text-align: right;\">\n",
       "      <th></th>\n",
       "      <th>customer_id</th>\n",
       "      <th>Gender</th>\n",
       "      <th>age</th>\n",
       "      <th>driving licence present</th>\n",
       "      <th>region code</th>\n",
       "      <th>previously insured</th>\n",
       "      <th>vehicle age</th>\n",
       "      <th>vehicle damage</th>\n",
       "      <th>vehicle damage_No</th>\n",
       "      <th>vehicle damage_yes</th>\n",
       "    </tr>\n",
       "  </thead>\n",
       "  <tbody>\n",
       "    <tr>\n",
       "      <th>0</th>\n",
       "      <td>1.0</td>\n",
       "      <td>Male</td>\n",
       "      <td>44.0</td>\n",
       "      <td>1.0</td>\n",
       "      <td>28.0</td>\n",
       "      <td>0.0</td>\n",
       "      <td>&gt; 2 Years</td>\n",
       "      <td>Yes</td>\n",
       "      <td>0</td>\n",
       "      <td>1</td>\n",
       "    </tr>\n",
       "    <tr>\n",
       "      <th>1</th>\n",
       "      <td>2.0</td>\n",
       "      <td>Male</td>\n",
       "      <td>76.0</td>\n",
       "      <td>1.0</td>\n",
       "      <td>3.0</td>\n",
       "      <td>0.0</td>\n",
       "      <td>1-2 Year</td>\n",
       "      <td>No</td>\n",
       "      <td>1</td>\n",
       "      <td>0</td>\n",
       "    </tr>\n",
       "    <tr>\n",
       "      <th>2</th>\n",
       "      <td>3.0</td>\n",
       "      <td>Male</td>\n",
       "      <td>47.0</td>\n",
       "      <td>1.0</td>\n",
       "      <td>28.0</td>\n",
       "      <td>0.0</td>\n",
       "      <td>&gt; 2 Years</td>\n",
       "      <td>Yes</td>\n",
       "      <td>0</td>\n",
       "      <td>1</td>\n",
       "    </tr>\n",
       "    <tr>\n",
       "      <th>3</th>\n",
       "      <td>4.0</td>\n",
       "      <td>Male</td>\n",
       "      <td>21.0</td>\n",
       "      <td>1.0</td>\n",
       "      <td>11.0</td>\n",
       "      <td>1.0</td>\n",
       "      <td>&lt; 1 Year</td>\n",
       "      <td>No</td>\n",
       "      <td>1</td>\n",
       "      <td>0</td>\n",
       "    </tr>\n",
       "    <tr>\n",
       "      <th>4</th>\n",
       "      <td>5.0</td>\n",
       "      <td>Female</td>\n",
       "      <td>29.0</td>\n",
       "      <td>1.0</td>\n",
       "      <td>41.0</td>\n",
       "      <td>1.0</td>\n",
       "      <td>&lt; 1 Year</td>\n",
       "      <td>No</td>\n",
       "      <td>1</td>\n",
       "      <td>0</td>\n",
       "    </tr>\n",
       "    <tr>\n",
       "      <th>...</th>\n",
       "      <td>...</td>\n",
       "      <td>...</td>\n",
       "      <td>...</td>\n",
       "      <td>...</td>\n",
       "      <td>...</td>\n",
       "      <td>...</td>\n",
       "      <td>...</td>\n",
       "      <td>...</td>\n",
       "      <td>...</td>\n",
       "      <td>...</td>\n",
       "    </tr>\n",
       "    <tr>\n",
       "      <th>381104</th>\n",
       "      <td>381105.0</td>\n",
       "      <td>Male</td>\n",
       "      <td>74.0</td>\n",
       "      <td>1.0</td>\n",
       "      <td>26.0</td>\n",
       "      <td>1.0</td>\n",
       "      <td>1-2 Year</td>\n",
       "      <td>No</td>\n",
       "      <td>1</td>\n",
       "      <td>0</td>\n",
       "    </tr>\n",
       "    <tr>\n",
       "      <th>381105</th>\n",
       "      <td>381106.0</td>\n",
       "      <td>Male</td>\n",
       "      <td>30.0</td>\n",
       "      <td>1.0</td>\n",
       "      <td>37.0</td>\n",
       "      <td>1.0</td>\n",
       "      <td>&lt; 1 Year</td>\n",
       "      <td>No</td>\n",
       "      <td>1</td>\n",
       "      <td>0</td>\n",
       "    </tr>\n",
       "    <tr>\n",
       "      <th>381106</th>\n",
       "      <td>381107.0</td>\n",
       "      <td>Male</td>\n",
       "      <td>21.0</td>\n",
       "      <td>1.0</td>\n",
       "      <td>30.0</td>\n",
       "      <td>1.0</td>\n",
       "      <td>&lt; 1 Year</td>\n",
       "      <td>No</td>\n",
       "      <td>1</td>\n",
       "      <td>0</td>\n",
       "    </tr>\n",
       "    <tr>\n",
       "      <th>381107</th>\n",
       "      <td>381108.0</td>\n",
       "      <td>Female</td>\n",
       "      <td>68.0</td>\n",
       "      <td>1.0</td>\n",
       "      <td>14.0</td>\n",
       "      <td>0.0</td>\n",
       "      <td>&gt; 2 Years</td>\n",
       "      <td>Yes</td>\n",
       "      <td>0</td>\n",
       "      <td>1</td>\n",
       "    </tr>\n",
       "    <tr>\n",
       "      <th>381108</th>\n",
       "      <td>381109.0</td>\n",
       "      <td>Male</td>\n",
       "      <td>46.0</td>\n",
       "      <td>1.0</td>\n",
       "      <td>29.0</td>\n",
       "      <td>0.0</td>\n",
       "      <td>1-2 Year</td>\n",
       "      <td>No</td>\n",
       "      <td>1</td>\n",
       "      <td>0</td>\n",
       "    </tr>\n",
       "  </tbody>\n",
       "</table>\n",
       "<p>380723 rows × 10 columns</p>\n",
       "</div>"
      ],
      "text/plain": [
       "        customer_id  Gender   age  driving licence present  region code  \\\n",
       "0               1.0    Male  44.0                      1.0         28.0   \n",
       "1               2.0    Male  76.0                      1.0          3.0   \n",
       "2               3.0    Male  47.0                      1.0         28.0   \n",
       "3               4.0    Male  21.0                      1.0         11.0   \n",
       "4               5.0  Female  29.0                      1.0         41.0   \n",
       "...             ...     ...   ...                      ...          ...   \n",
       "381104     381105.0    Male  74.0                      1.0         26.0   \n",
       "381105     381106.0    Male  30.0                      1.0         37.0   \n",
       "381106     381107.0    Male  21.0                      1.0         30.0   \n",
       "381107     381108.0  Female  68.0                      1.0         14.0   \n",
       "381108     381109.0    Male  46.0                      1.0         29.0   \n",
       "\n",
       "        previously insured vehicle age vehicle damage  vehicle damage_No  \\\n",
       "0                      0.0   > 2 Years            Yes                  0   \n",
       "1                      0.0    1-2 Year             No                  1   \n",
       "2                      0.0   > 2 Years            Yes                  0   \n",
       "3                      1.0    < 1 Year             No                  1   \n",
       "4                      1.0    < 1 Year             No                  1   \n",
       "...                    ...         ...            ...                ...   \n",
       "381104                 1.0    1-2 Year             No                  1   \n",
       "381105                 1.0    < 1 Year             No                  1   \n",
       "381106                 1.0    < 1 Year             No                  1   \n",
       "381107                 0.0   > 2 Years            Yes                  0   \n",
       "381108                 0.0    1-2 Year             No                  1   \n",
       "\n",
       "        vehicle damage_yes  \n",
       "0                        1  \n",
       "1                        0  \n",
       "2                        1  \n",
       "3                        0  \n",
       "4                        0  \n",
       "...                    ...  \n",
       "381104                   0  \n",
       "381105                   0  \n",
       "381106                   0  \n",
       "381107                   1  \n",
       "381108                   0  \n",
       "\n",
       "[380723 rows x 10 columns]"
      ]
     },
     "execution_count": 97,
     "metadata": {},
     "output_type": "execute_result"
    }
   ],
   "source": [
    "df1"
   ]
  },
  {
   "cell_type": "code",
   "execution_count": 98,
   "id": "eb9b1fb0",
   "metadata": {},
   "outputs": [],
   "source": [
    "df1.drop('vehicle damage',axis = 1,inplace = True)"
   ]
  },
  {
   "cell_type": "code",
   "execution_count": 99,
   "id": "358ad36e",
   "metadata": {},
   "outputs": [
    {
     "data": {
      "text/html": [
       "<div>\n",
       "<style scoped>\n",
       "    .dataframe tbody tr th:only-of-type {\n",
       "        vertical-align: middle;\n",
       "    }\n",
       "\n",
       "    .dataframe tbody tr th {\n",
       "        vertical-align: top;\n",
       "    }\n",
       "\n",
       "    .dataframe thead th {\n",
       "        text-align: right;\n",
       "    }\n",
       "</style>\n",
       "<table border=\"1\" class=\"dataframe\">\n",
       "  <thead>\n",
       "    <tr style=\"text-align: right;\">\n",
       "      <th></th>\n",
       "      <th>customer_id</th>\n",
       "      <th>Gender</th>\n",
       "      <th>age</th>\n",
       "      <th>driving licence present</th>\n",
       "      <th>region code</th>\n",
       "      <th>previously insured</th>\n",
       "      <th>vehicle age</th>\n",
       "      <th>vehicle damage_No</th>\n",
       "      <th>vehicle damage_yes</th>\n",
       "    </tr>\n",
       "  </thead>\n",
       "  <tbody>\n",
       "    <tr>\n",
       "      <th>0</th>\n",
       "      <td>1.0</td>\n",
       "      <td>Male</td>\n",
       "      <td>44.0</td>\n",
       "      <td>1.0</td>\n",
       "      <td>28.0</td>\n",
       "      <td>0.0</td>\n",
       "      <td>&gt; 2 Years</td>\n",
       "      <td>0</td>\n",
       "      <td>1</td>\n",
       "    </tr>\n",
       "    <tr>\n",
       "      <th>1</th>\n",
       "      <td>2.0</td>\n",
       "      <td>Male</td>\n",
       "      <td>76.0</td>\n",
       "      <td>1.0</td>\n",
       "      <td>3.0</td>\n",
       "      <td>0.0</td>\n",
       "      <td>1-2 Year</td>\n",
       "      <td>1</td>\n",
       "      <td>0</td>\n",
       "    </tr>\n",
       "    <tr>\n",
       "      <th>2</th>\n",
       "      <td>3.0</td>\n",
       "      <td>Male</td>\n",
       "      <td>47.0</td>\n",
       "      <td>1.0</td>\n",
       "      <td>28.0</td>\n",
       "      <td>0.0</td>\n",
       "      <td>&gt; 2 Years</td>\n",
       "      <td>0</td>\n",
       "      <td>1</td>\n",
       "    </tr>\n",
       "    <tr>\n",
       "      <th>3</th>\n",
       "      <td>4.0</td>\n",
       "      <td>Male</td>\n",
       "      <td>21.0</td>\n",
       "      <td>1.0</td>\n",
       "      <td>11.0</td>\n",
       "      <td>1.0</td>\n",
       "      <td>&lt; 1 Year</td>\n",
       "      <td>1</td>\n",
       "      <td>0</td>\n",
       "    </tr>\n",
       "    <tr>\n",
       "      <th>4</th>\n",
       "      <td>5.0</td>\n",
       "      <td>Female</td>\n",
       "      <td>29.0</td>\n",
       "      <td>1.0</td>\n",
       "      <td>41.0</td>\n",
       "      <td>1.0</td>\n",
       "      <td>&lt; 1 Year</td>\n",
       "      <td>1</td>\n",
       "      <td>0</td>\n",
       "    </tr>\n",
       "    <tr>\n",
       "      <th>...</th>\n",
       "      <td>...</td>\n",
       "      <td>...</td>\n",
       "      <td>...</td>\n",
       "      <td>...</td>\n",
       "      <td>...</td>\n",
       "      <td>...</td>\n",
       "      <td>...</td>\n",
       "      <td>...</td>\n",
       "      <td>...</td>\n",
       "    </tr>\n",
       "    <tr>\n",
       "      <th>381104</th>\n",
       "      <td>381105.0</td>\n",
       "      <td>Male</td>\n",
       "      <td>74.0</td>\n",
       "      <td>1.0</td>\n",
       "      <td>26.0</td>\n",
       "      <td>1.0</td>\n",
       "      <td>1-2 Year</td>\n",
       "      <td>1</td>\n",
       "      <td>0</td>\n",
       "    </tr>\n",
       "    <tr>\n",
       "      <th>381105</th>\n",
       "      <td>381106.0</td>\n",
       "      <td>Male</td>\n",
       "      <td>30.0</td>\n",
       "      <td>1.0</td>\n",
       "      <td>37.0</td>\n",
       "      <td>1.0</td>\n",
       "      <td>&lt; 1 Year</td>\n",
       "      <td>1</td>\n",
       "      <td>0</td>\n",
       "    </tr>\n",
       "    <tr>\n",
       "      <th>381106</th>\n",
       "      <td>381107.0</td>\n",
       "      <td>Male</td>\n",
       "      <td>21.0</td>\n",
       "      <td>1.0</td>\n",
       "      <td>30.0</td>\n",
       "      <td>1.0</td>\n",
       "      <td>&lt; 1 Year</td>\n",
       "      <td>1</td>\n",
       "      <td>0</td>\n",
       "    </tr>\n",
       "    <tr>\n",
       "      <th>381107</th>\n",
       "      <td>381108.0</td>\n",
       "      <td>Female</td>\n",
       "      <td>68.0</td>\n",
       "      <td>1.0</td>\n",
       "      <td>14.0</td>\n",
       "      <td>0.0</td>\n",
       "      <td>&gt; 2 Years</td>\n",
       "      <td>0</td>\n",
       "      <td>1</td>\n",
       "    </tr>\n",
       "    <tr>\n",
       "      <th>381108</th>\n",
       "      <td>381109.0</td>\n",
       "      <td>Male</td>\n",
       "      <td>46.0</td>\n",
       "      <td>1.0</td>\n",
       "      <td>29.0</td>\n",
       "      <td>0.0</td>\n",
       "      <td>1-2 Year</td>\n",
       "      <td>1</td>\n",
       "      <td>0</td>\n",
       "    </tr>\n",
       "  </tbody>\n",
       "</table>\n",
       "<p>380723 rows × 9 columns</p>\n",
       "</div>"
      ],
      "text/plain": [
       "        customer_id  Gender   age  driving licence present  region code  \\\n",
       "0               1.0    Male  44.0                      1.0         28.0   \n",
       "1               2.0    Male  76.0                      1.0          3.0   \n",
       "2               3.0    Male  47.0                      1.0         28.0   \n",
       "3               4.0    Male  21.0                      1.0         11.0   \n",
       "4               5.0  Female  29.0                      1.0         41.0   \n",
       "...             ...     ...   ...                      ...          ...   \n",
       "381104     381105.0    Male  74.0                      1.0         26.0   \n",
       "381105     381106.0    Male  30.0                      1.0         37.0   \n",
       "381106     381107.0    Male  21.0                      1.0         30.0   \n",
       "381107     381108.0  Female  68.0                      1.0         14.0   \n",
       "381108     381109.0    Male  46.0                      1.0         29.0   \n",
       "\n",
       "        previously insured vehicle age  vehicle damage_No  vehicle damage_yes  \n",
       "0                      0.0   > 2 Years                  0                   1  \n",
       "1                      0.0    1-2 Year                  1                   0  \n",
       "2                      0.0   > 2 Years                  0                   1  \n",
       "3                      1.0    < 1 Year                  1                   0  \n",
       "4                      1.0    < 1 Year                  1                   0  \n",
       "...                    ...         ...                ...                 ...  \n",
       "381104                 1.0    1-2 Year                  1                   0  \n",
       "381105                 1.0    < 1 Year                  1                   0  \n",
       "381106                 1.0    < 1 Year                  1                   0  \n",
       "381107                 0.0   > 2 Years                  0                   1  \n",
       "381108                 0.0    1-2 Year                  1                   0  \n",
       "\n",
       "[380723 rows x 9 columns]"
      ]
     },
     "execution_count": 99,
     "metadata": {},
     "output_type": "execute_result"
    }
   ],
   "source": [
    "df1"
   ]
  },
  {
   "cell_type": "markdown",
   "id": "8d7c8c64",
   "metadata": {},
   "source": [
    "### 6.Drop Duplicates (duplicated rows)"
   ]
  },
  {
   "cell_type": "code",
   "execution_count": 100,
   "id": "25c4f3e9",
   "metadata": {},
   "outputs": [],
   "source": [
    "# Dropping duplicates from customer details table(df1)\n",
    "\n",
    "\n",
    "df1.drop_duplicates(inplace=True)"
   ]
  },
  {
   "cell_type": "code",
   "execution_count": 102,
   "id": "f9729bee",
   "metadata": {},
   "outputs": [],
   "source": [
    "# Dropping duplicates from customer policy details table(df2)\n",
    "\n",
    "df2.drop_duplicates(inplace=True)"
   ]
  },
  {
   "cell_type": "markdown",
   "id": "30ba05b0",
   "metadata": {},
   "source": [
    "## 3Q.Create a Master table for future use. Join the customer table and customer_policy table to get a master table using customer_id in both tables"
   ]
  },
  {
   "cell_type": "code",
   "execution_count": 103,
   "id": "b25b333d",
   "metadata": {},
   "outputs": [],
   "source": [
    "master_table = pd.merge(df1,df2,on = 'customer_id')"
   ]
  },
  {
   "cell_type": "code",
   "execution_count": 104,
   "id": "4e17fab8",
   "metadata": {},
   "outputs": [
    {
     "data": {
      "text/html": [
       "<div>\n",
       "<style scoped>\n",
       "    .dataframe tbody tr th:only-of-type {\n",
       "        vertical-align: middle;\n",
       "    }\n",
       "\n",
       "    .dataframe tbody tr th {\n",
       "        vertical-align: top;\n",
       "    }\n",
       "\n",
       "    .dataframe thead th {\n",
       "        text-align: right;\n",
       "    }\n",
       "</style>\n",
       "<table border=\"1\" class=\"dataframe\">\n",
       "  <thead>\n",
       "    <tr style=\"text-align: right;\">\n",
       "      <th></th>\n",
       "      <th>customer_id</th>\n",
       "      <th>Gender</th>\n",
       "      <th>age</th>\n",
       "      <th>driving licence present</th>\n",
       "      <th>region code</th>\n",
       "      <th>previously insured</th>\n",
       "      <th>vehicle age</th>\n",
       "      <th>vehicle damage_No</th>\n",
       "      <th>vehicle damage_yes</th>\n",
       "      <th>annual premium (in Rs)</th>\n",
       "      <th>sales channel code</th>\n",
       "      <th>vintage</th>\n",
       "      <th>response</th>\n",
       "    </tr>\n",
       "  </thead>\n",
       "  <tbody>\n",
       "    <tr>\n",
       "      <th>0</th>\n",
       "      <td>1.0</td>\n",
       "      <td>Male</td>\n",
       "      <td>44.0</td>\n",
       "      <td>1.0</td>\n",
       "      <td>28.0</td>\n",
       "      <td>0.0</td>\n",
       "      <td>&gt; 2 Years</td>\n",
       "      <td>0</td>\n",
       "      <td>1</td>\n",
       "      <td>40454.0</td>\n",
       "      <td>26.0</td>\n",
       "      <td>217.0</td>\n",
       "      <td>1.0</td>\n",
       "    </tr>\n",
       "    <tr>\n",
       "      <th>1</th>\n",
       "      <td>2.0</td>\n",
       "      <td>Male</td>\n",
       "      <td>76.0</td>\n",
       "      <td>1.0</td>\n",
       "      <td>3.0</td>\n",
       "      <td>0.0</td>\n",
       "      <td>1-2 Year</td>\n",
       "      <td>1</td>\n",
       "      <td>0</td>\n",
       "      <td>33536.0</td>\n",
       "      <td>26.0</td>\n",
       "      <td>183.0</td>\n",
       "      <td>0.0</td>\n",
       "    </tr>\n",
       "    <tr>\n",
       "      <th>2</th>\n",
       "      <td>3.0</td>\n",
       "      <td>Male</td>\n",
       "      <td>47.0</td>\n",
       "      <td>1.0</td>\n",
       "      <td>28.0</td>\n",
       "      <td>0.0</td>\n",
       "      <td>&gt; 2 Years</td>\n",
       "      <td>0</td>\n",
       "      <td>1</td>\n",
       "      <td>38294.0</td>\n",
       "      <td>26.0</td>\n",
       "      <td>27.0</td>\n",
       "      <td>1.0</td>\n",
       "    </tr>\n",
       "    <tr>\n",
       "      <th>3</th>\n",
       "      <td>4.0</td>\n",
       "      <td>Male</td>\n",
       "      <td>21.0</td>\n",
       "      <td>1.0</td>\n",
       "      <td>11.0</td>\n",
       "      <td>1.0</td>\n",
       "      <td>&lt; 1 Year</td>\n",
       "      <td>1</td>\n",
       "      <td>0</td>\n",
       "      <td>28619.0</td>\n",
       "      <td>152.0</td>\n",
       "      <td>203.0</td>\n",
       "      <td>0.0</td>\n",
       "    </tr>\n",
       "    <tr>\n",
       "      <th>4</th>\n",
       "      <td>5.0</td>\n",
       "      <td>Female</td>\n",
       "      <td>29.0</td>\n",
       "      <td>1.0</td>\n",
       "      <td>41.0</td>\n",
       "      <td>1.0</td>\n",
       "      <td>&lt; 1 Year</td>\n",
       "      <td>1</td>\n",
       "      <td>0</td>\n",
       "      <td>27496.0</td>\n",
       "      <td>152.0</td>\n",
       "      <td>39.0</td>\n",
       "      <td>0.0</td>\n",
       "    </tr>\n",
       "    <tr>\n",
       "      <th>...</th>\n",
       "      <td>...</td>\n",
       "      <td>...</td>\n",
       "      <td>...</td>\n",
       "      <td>...</td>\n",
       "      <td>...</td>\n",
       "      <td>...</td>\n",
       "      <td>...</td>\n",
       "      <td>...</td>\n",
       "      <td>...</td>\n",
       "      <td>...</td>\n",
       "      <td>...</td>\n",
       "      <td>...</td>\n",
       "      <td>...</td>\n",
       "    </tr>\n",
       "    <tr>\n",
       "      <th>380331</th>\n",
       "      <td>381105.0</td>\n",
       "      <td>Male</td>\n",
       "      <td>74.0</td>\n",
       "      <td>1.0</td>\n",
       "      <td>26.0</td>\n",
       "      <td>1.0</td>\n",
       "      <td>1-2 Year</td>\n",
       "      <td>1</td>\n",
       "      <td>0</td>\n",
       "      <td>30170.0</td>\n",
       "      <td>26.0</td>\n",
       "      <td>88.0</td>\n",
       "      <td>0.0</td>\n",
       "    </tr>\n",
       "    <tr>\n",
       "      <th>380332</th>\n",
       "      <td>381106.0</td>\n",
       "      <td>Male</td>\n",
       "      <td>30.0</td>\n",
       "      <td>1.0</td>\n",
       "      <td>37.0</td>\n",
       "      <td>1.0</td>\n",
       "      <td>&lt; 1 Year</td>\n",
       "      <td>1</td>\n",
       "      <td>0</td>\n",
       "      <td>40016.0</td>\n",
       "      <td>152.0</td>\n",
       "      <td>131.0</td>\n",
       "      <td>0.0</td>\n",
       "    </tr>\n",
       "    <tr>\n",
       "      <th>380333</th>\n",
       "      <td>381107.0</td>\n",
       "      <td>Male</td>\n",
       "      <td>21.0</td>\n",
       "      <td>1.0</td>\n",
       "      <td>30.0</td>\n",
       "      <td>1.0</td>\n",
       "      <td>&lt; 1 Year</td>\n",
       "      <td>1</td>\n",
       "      <td>0</td>\n",
       "      <td>35118.0</td>\n",
       "      <td>160.0</td>\n",
       "      <td>161.0</td>\n",
       "      <td>0.0</td>\n",
       "    </tr>\n",
       "    <tr>\n",
       "      <th>380334</th>\n",
       "      <td>381108.0</td>\n",
       "      <td>Female</td>\n",
       "      <td>68.0</td>\n",
       "      <td>1.0</td>\n",
       "      <td>14.0</td>\n",
       "      <td>0.0</td>\n",
       "      <td>&gt; 2 Years</td>\n",
       "      <td>0</td>\n",
       "      <td>1</td>\n",
       "      <td>44617.0</td>\n",
       "      <td>124.0</td>\n",
       "      <td>74.0</td>\n",
       "      <td>0.0</td>\n",
       "    </tr>\n",
       "    <tr>\n",
       "      <th>380335</th>\n",
       "      <td>381109.0</td>\n",
       "      <td>Male</td>\n",
       "      <td>46.0</td>\n",
       "      <td>1.0</td>\n",
       "      <td>29.0</td>\n",
       "      <td>0.0</td>\n",
       "      <td>1-2 Year</td>\n",
       "      <td>1</td>\n",
       "      <td>0</td>\n",
       "      <td>41777.0</td>\n",
       "      <td>26.0</td>\n",
       "      <td>237.0</td>\n",
       "      <td>0.0</td>\n",
       "    </tr>\n",
       "  </tbody>\n",
       "</table>\n",
       "<p>380336 rows × 13 columns</p>\n",
       "</div>"
      ],
      "text/plain": [
       "        customer_id  Gender   age  driving licence present  region code  \\\n",
       "0               1.0    Male  44.0                      1.0         28.0   \n",
       "1               2.0    Male  76.0                      1.0          3.0   \n",
       "2               3.0    Male  47.0                      1.0         28.0   \n",
       "3               4.0    Male  21.0                      1.0         11.0   \n",
       "4               5.0  Female  29.0                      1.0         41.0   \n",
       "...             ...     ...   ...                      ...          ...   \n",
       "380331     381105.0    Male  74.0                      1.0         26.0   \n",
       "380332     381106.0    Male  30.0                      1.0         37.0   \n",
       "380333     381107.0    Male  21.0                      1.0         30.0   \n",
       "380334     381108.0  Female  68.0                      1.0         14.0   \n",
       "380335     381109.0    Male  46.0                      1.0         29.0   \n",
       "\n",
       "        previously insured vehicle age  vehicle damage_No  vehicle damage_yes  \\\n",
       "0                      0.0   > 2 Years                  0                   1   \n",
       "1                      0.0    1-2 Year                  1                   0   \n",
       "2                      0.0   > 2 Years                  0                   1   \n",
       "3                      1.0    < 1 Year                  1                   0   \n",
       "4                      1.0    < 1 Year                  1                   0   \n",
       "...                    ...         ...                ...                 ...   \n",
       "380331                 1.0    1-2 Year                  1                   0   \n",
       "380332                 1.0    < 1 Year                  1                   0   \n",
       "380333                 1.0    < 1 Year                  1                   0   \n",
       "380334                 0.0   > 2 Years                  0                   1   \n",
       "380335                 0.0    1-2 Year                  1                   0   \n",
       "\n",
       "        annual premium (in Rs)  sales channel code  vintage  response  \n",
       "0                      40454.0                26.0    217.0       1.0  \n",
       "1                      33536.0                26.0    183.0       0.0  \n",
       "2                      38294.0                26.0     27.0       1.0  \n",
       "3                      28619.0               152.0    203.0       0.0  \n",
       "4                      27496.0               152.0     39.0       0.0  \n",
       "...                        ...                 ...      ...       ...  \n",
       "380331                 30170.0                26.0     88.0       0.0  \n",
       "380332                 40016.0               152.0    131.0       0.0  \n",
       "380333                 35118.0               160.0    161.0       0.0  \n",
       "380334                 44617.0               124.0     74.0       0.0  \n",
       "380335                 41777.0                26.0    237.0       0.0  \n",
       "\n",
       "[380336 rows x 13 columns]"
      ]
     },
     "execution_count": 104,
     "metadata": {},
     "output_type": "execute_result"
    }
   ],
   "source": [
    "master_table"
   ]
  },
  {
   "cell_type": "markdown",
   "id": "45b8cbd4",
   "metadata": {},
   "source": [
    "## 4Q. Company needs some important information from the master table to make decisions for future growth.They needs following information:"
   ]
  },
  {
   "cell_type": "markdown",
   "id": "43b452ef",
   "metadata": {},
   "source": [
    "### 1. Gender wise average annual premium"
   ]
  },
  {
   "cell_type": "code",
   "execution_count": 107,
   "id": "bfdf674f",
   "metadata": {},
   "outputs": [],
   "source": [
    "gender_data = master_table.groupby('Gender')['annual premium (in Rs)'].mean()"
   ]
  },
  {
   "cell_type": "code",
   "execution_count": 108,
   "id": "95ff78a4",
   "metadata": {},
   "outputs": [
    {
     "data": {
      "text/plain": [
       "Gender\n",
       "Female    29273.474247\n",
       "Male      29323.099677\n",
       "Name: annual premium (in Rs), dtype: float64"
      ]
     },
     "execution_count": 108,
     "metadata": {},
     "output_type": "execute_result"
    }
   ],
   "source": [
    "gender_data"
   ]
  },
  {
   "cell_type": "markdown",
   "id": "14d5e041",
   "metadata": {},
   "source": [
    "### 2. Age wise average annual premium"
   ]
  },
  {
   "cell_type": "code",
   "execution_count": 110,
   "id": "a4ec8782",
   "metadata": {},
   "outputs": [],
   "source": [
    "age_data = master_table.groupby('age')['annual premium (in Rs)'].mean()"
   ]
  },
  {
   "cell_type": "code",
   "execution_count": 111,
   "id": "0177984a",
   "metadata": {},
   "outputs": [
    {
     "data": {
      "text/plain": [
       "age\n",
       "20.0    26342.073517\n",
       "21.0    29751.791916\n",
       "22.0    29946.848634\n",
       "23.0    29838.344763\n",
       "24.0    30125.557096\n",
       "            ...     \n",
       "81.0    29287.910702\n",
       "82.0    36480.586199\n",
       "83.0    28995.818172\n",
       "84.0    35440.818182\n",
       "85.0    26637.454525\n",
       "Name: annual premium (in Rs), Length: 67, dtype: float64"
      ]
     },
     "execution_count": 111,
     "metadata": {},
     "output_type": "execute_result"
    }
   ],
   "source": [
    "age_data"
   ]
  },
  {
   "cell_type": "markdown",
   "id": "f331a217",
   "metadata": {},
   "source": [
    "### 3.Is your data balanced between the genders?"
   ]
  },
  {
   "cell_type": "code",
   "execution_count": 112,
   "id": "0f94938f",
   "metadata": {},
   "outputs": [
    {
     "data": {
      "text/html": [
       "<div>\n",
       "<style scoped>\n",
       "    .dataframe tbody tr th:only-of-type {\n",
       "        vertical-align: middle;\n",
       "    }\n",
       "\n",
       "    .dataframe tbody tr th {\n",
       "        vertical-align: top;\n",
       "    }\n",
       "\n",
       "    .dataframe thead th {\n",
       "        text-align: right;\n",
       "    }\n",
       "</style>\n",
       "<table border=\"1\" class=\"dataframe\">\n",
       "  <thead>\n",
       "    <tr style=\"text-align: right;\">\n",
       "      <th></th>\n",
       "      <th>customer_id</th>\n",
       "      <th>age</th>\n",
       "      <th>driving licence present</th>\n",
       "      <th>region code</th>\n",
       "      <th>previously insured</th>\n",
       "      <th>vehicle age</th>\n",
       "      <th>vehicle damage_No</th>\n",
       "      <th>vehicle damage_yes</th>\n",
       "      <th>annual premium (in Rs)</th>\n",
       "      <th>sales channel code</th>\n",
       "      <th>vintage</th>\n",
       "      <th>response</th>\n",
       "    </tr>\n",
       "    <tr>\n",
       "      <th>Gender</th>\n",
       "      <th></th>\n",
       "      <th></th>\n",
       "      <th></th>\n",
       "      <th></th>\n",
       "      <th></th>\n",
       "      <th></th>\n",
       "      <th></th>\n",
       "      <th></th>\n",
       "      <th></th>\n",
       "      <th></th>\n",
       "      <th></th>\n",
       "      <th></th>\n",
       "    </tr>\n",
       "  </thead>\n",
       "  <tbody>\n",
       "    <tr>\n",
       "      <th>Female</th>\n",
       "      <td>174485</td>\n",
       "      <td>174485</td>\n",
       "      <td>174485</td>\n",
       "      <td>174485</td>\n",
       "      <td>174485</td>\n",
       "      <td>174485</td>\n",
       "      <td>174485</td>\n",
       "      <td>174485</td>\n",
       "      <td>174485</td>\n",
       "      <td>174485</td>\n",
       "      <td>174485</td>\n",
       "      <td>174485</td>\n",
       "    </tr>\n",
       "    <tr>\n",
       "      <th>Male</th>\n",
       "      <td>205851</td>\n",
       "      <td>205851</td>\n",
       "      <td>205851</td>\n",
       "      <td>205851</td>\n",
       "      <td>205851</td>\n",
       "      <td>205851</td>\n",
       "      <td>205851</td>\n",
       "      <td>205851</td>\n",
       "      <td>205851</td>\n",
       "      <td>205851</td>\n",
       "      <td>205851</td>\n",
       "      <td>205851</td>\n",
       "    </tr>\n",
       "  </tbody>\n",
       "</table>\n",
       "</div>"
      ],
      "text/plain": [
       "        customer_id     age  driving licence present  region code  \\\n",
       "Gender                                                              \n",
       "Female       174485  174485                   174485       174485   \n",
       "Male         205851  205851                   205851       205851   \n",
       "\n",
       "        previously insured  vehicle age  vehicle damage_No  \\\n",
       "Gender                                                       \n",
       "Female              174485       174485             174485   \n",
       "Male                205851       205851             205851   \n",
       "\n",
       "        vehicle damage_yes  annual premium (in Rs)  sales channel code  \\\n",
       "Gender                                                                   \n",
       "Female              174485                  174485              174485   \n",
       "Male                205851                  205851              205851   \n",
       "\n",
       "        vintage  response  \n",
       "Gender                     \n",
       "Female   174485    174485  \n",
       "Male     205851    205851  "
      ]
     },
     "execution_count": 112,
     "metadata": {},
     "output_type": "execute_result"
    }
   ],
   "source": [
    "master_table.groupby('Gender').count()"
   ]
  },
  {
   "cell_type": "markdown",
   "id": "245b0d57",
   "metadata": {},
   "source": [
    "### 4. Vehicle age wise average annual premium."
   ]
  },
  {
   "cell_type": "code",
   "execution_count": 113,
   "id": "ab4256b6",
   "metadata": {},
   "outputs": [],
   "source": [
    "vehicle_age_data = master_table.groupby('vehicle age')['annual premium (in Rs)'].mean()"
   ]
  },
  {
   "cell_type": "code",
   "execution_count": 114,
   "id": "ee9bcd6c",
   "metadata": {},
   "outputs": [
    {
     "data": {
      "text/plain": [
       "vehicle age\n",
       "1-2 Year     29102.009839\n",
       "< 1 Year     29188.150594\n",
       "> 2 Years    32943.540830\n",
       "Name: annual premium (in Rs), dtype: float64"
      ]
     },
     "execution_count": 114,
     "metadata": {},
     "output_type": "execute_result"
    }
   ],
   "source": [
    "vehicle_age_data"
   ]
  },
  {
   "cell_type": "code",
   "execution_count": null,
   "id": "f2f11a0a",
   "metadata": {},
   "outputs": [],
   "source": []
  },
  {
   "cell_type": "code",
   "execution_count": null,
   "id": "2f17e2ea",
   "metadata": {},
   "outputs": [],
   "source": []
  },
  {
   "cell_type": "code",
   "execution_count": null,
   "id": "0f227e2b",
   "metadata": {},
   "outputs": [],
   "source": []
  },
  {
   "cell_type": "code",
   "execution_count": null,
   "id": "fcf91444",
   "metadata": {},
   "outputs": [],
   "source": []
  }
 ],
 "metadata": {
  "kernelspec": {
   "display_name": "Python 3 (ipykernel)",
   "language": "python",
   "name": "python3"
  },
  "language_info": {
   "codemirror_mode": {
    "name": "ipython",
    "version": 3
   },
   "file_extension": ".py",
   "mimetype": "text/x-python",
   "name": "python",
   "nbconvert_exporter": "python",
   "pygments_lexer": "ipython3",
   "version": "3.9.12"
  }
 },
 "nbformat": 4,
 "nbformat_minor": 5
}
